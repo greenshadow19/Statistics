{
 "cells": [
  {
   "cell_type": "code",
   "execution_count": 1,
   "metadata": {},
   "outputs": [],
   "source": [
    "import numpy as np\n",
    "import matplotlib.pyplot as plt\n",
    "import seaborn as sns\n",
    "import pandas as pd\n",
    "import itertools\n",
    "from scipy import stats\n",
    "\n",
    "import seaborn as sns"
   ]
  },
  {
   "cell_type": "code",
   "execution_count": 2,
   "metadata": {},
   "outputs": [],
   "source": [
    "%config Completer.use_jedi = False"
   ]
  },
  {
   "cell_type": "markdown",
   "metadata": {},
   "source": [
    "## [1.2 Formulation of the task](https://stepik.org/lesson/24812/step/1?unit=7103)\n",
    "\n",
    "Часто возникает вопрос какой именно тест применять в какой задаче. Что делать если основными элементами наших данных являются номинативные переменные.\n",
    "\n",
    "`Задание`\n",
    "\n",
    "Убедимся, что мы все помним, что такое номинативная переменная и какими свойствами она обладает!\n",
    "\n",
    "**Ответ**:\n",
    "У номинативной переменной может быть произвольное число градаций.\n",
    "\n",
    "Номинативные переменные используются в статистике для разделения наблюдений на группы по какому-либо основанию.\n",
    "\n",
    "\n",
    "`Задание`\n",
    "\n",
    "Соотнесите переменные и их типы.\n",
    "\n",
    "| Переменная | Тип |\n",
    "| --- | --- |\n",
    "| Скорость автомобиля, км/ч | Количественная переменная |\n",
    "| Тип двигателя у автомобиля | Номинативная переменная |\n",
    "| Десять упорядоченных значений по времени разгона, где 1 - самый быстрый, 10 - самый медленный | Ранговая переменная |\n",
    "\n",
    "\n",
    "`Задание`\n",
    "\n",
    "Любую номинативную переменную мы можем закодировать при помощи чисел. Например, пол: 1 - мужчина, 0 - женщина. Тогда наши данные о десяти испытуемых могут быть записаны следующим образом:\n",
    "1, 1, 1, 0, 0, 0, 0, 0, 0, 1\n",
    "\n",
    "Какие из описательных статистик осмысленно применять к номинативным данным перекодированным таким образом?\n",
    "\n",
    "**Ответ**: мода\n"
   ]
  },
  {
   "cell_type": "markdown",
   "metadata": {},
   "source": [
    "Какие гипотезы мы можем проверить при работе с номинативными переменными?\n",
    "\n",
    "##### Проверка гипотезы о распределении номинативной переменной\n",
    "`Пример`\n",
    "\n",
    "Голосовании на выборах, на которых участвуют три партии.\n",
    "\n",
    "Нулевая гипотеза: номинативная переменная имеет равномерное распределение.\n",
    "\n",
    "##### Проверка гипотезы о взаимосвязи двух номинативных переменных\n",
    "`Пример`\n",
    "\n",
    "Два лекарства и результат: 1 или 0.\n",
    "\n",
    "##### Влияние разных предикторов на бинарную переменную\n",
    "\n",
    "Например, логистическая регрессия.\n",
    "\n",
    "`Задание`\n",
    "\n",
    "И последний вопрос!)\n",
    "\n",
    "К какому типу переменных относится рост человека?\n",
    "\n",
    "**Ответ**: Я чувствую подвох в этом вопросе! Очевидно, тип переменной зависит от способа ее измерения!\n",
    "\n",
    "\n",
    "Любая переменная может быть номинативной. Даже, например, рост человека вполне можно сделать бинарной переменной как высокой и низкой, поэтому тема имеет множество применений."
   ]
  },
  {
   "cell_type": "markdown",
   "metadata": {},
   "source": [
    "## [1.3 Расстояние Пирсона](https://stepik.org/lesson/24813/step/1?unit=7107)\n",
    "\n",
    "Перейдем к первой проблеме о изучении харакетра распределения некоторой номинативной переменной, которая чаще всего оценивается по количеству элементов выборки с конкретным значением номинативной переменной (гистограмма).\n",
    "\n",
    "Начнем с простейшего примера. Пусть у нас есть монетка, мы подбросили ее 60 раз и хотим проверить, что монетка честная, то есть орел и решка выпадают равновероятно и, таким образом, наше распределение равномерное.\n",
    "\n",
    "N = 60\n",
    "\n",
    "Решка - 20\n",
    "\n",
    "Орел - 40\n",
    "\n",
    "$$H_0: p_{орел}=0.5$$\n",
    "$$H_1: p_{орел}\\ne0.5$$\n",
    "\n",
    "Введем определения:\n",
    "\n",
    "**O** (_Observed_): наблюдаемые в эксперименте частоты (20, 40)\n",
    "\n",
    "**E** (_Expected_): теоретические значения частот (30, 30)\n",
    "\n",
    "`Задание`\n",
    "\n",
    "Объясните, почему нельзя просто взять и рассчитать сумму квадратов отклонений наблюдаемых и ожидаемых частот для того, чтобы охарактеризовать силу расхождения между наблюдаемыми и предсказанными данными при помощи формулы:\n",
    "$$\n",
    "d^2 = (O_{1} - E_{1})^2 + (O_{2} - E_{2})^2 \n",
    "$$\n",
    "\n",
    "**Ответ**: В такой формуле получается, что одно и то же значение $d^2$ может характеризовать как довольно значительные, так и практически несущественные расхождения между наблюдаемыми и ожидаемыми частотами.\n",
    "  \n",
    "  \n",
    "Введем меру расхождение ожидаемых и реальных значений по следующей формуле, которое называется _расстояние $\\chi^2$ Пирсона_:\n",
    "\n",
    "$$\n",
    "d = \\sum_i\\frac{(O_{i} - E_{i})^2}{E_i} \n",
    "$$\n",
    "\n",
    "`Задание`\n",
    "\n",
    "Укажите верные высказывания:\n",
    "\n",
    "\n",
    "**Ответ**:\n",
    "Расстояние хи-квадрат не может быть отрицательным.\n",
    "\n",
    "Расстояние хи-квадрат Пирсона может равняться нулю.\n",
    "\n",
    "`Задание`\n",
    "\n",
    "В рассмотренном примере мы полагали, что распределение ожидаемых частот является равномерным. Но ничто не мешает нам задать более интересное ожидаемое распределение частот! Рассмотрим такую ситуацию:\n",
    "\n",
    "Монах Грегор Иоганн выращивал горох трех цветов (бедняга надеялся, что это поможет ему сделать важное открытие).  \n",
    "В одном из опытов эмпирическое распределение частот некоторого цвета гороха приняло следующий вид:\n",
    "\n",
    "18, 55, 27\n",
    "\n",
    "Чему будут равны ожидаемые значения частот, если предполагаемое теоретическое распределение имеет следующий вид:\n",
    "\n",
    "1: 2: 1\n",
    "\n",
    "Напишите три числа через запятую\n",
    "Формат ответа: 15, 30, 45"
   ]
  },
  {
   "cell_type": "code",
   "execution_count": 3,
   "metadata": {},
   "outputs": [
    {
     "data": {
      "text/plain": [
       "(25.0, 50.0, 25.0)"
      ]
     },
     "execution_count": 3,
     "metadata": {},
     "output_type": "execute_result"
    }
   ],
   "source": [
    "N = 18 + 55 + 27\n",
    "N/4, N/2, N/4"
   ]
  },
  {
   "cell_type": "markdown",
   "metadata": {},
   "source": [
    "**Ответ**: 25, 50, 25"
   ]
  },
  {
   "cell_type": "markdown",
   "metadata": {},
   "source": [
    "`Задание`\n",
    "\n",
    "Воспользуемся данными из прошлой задачи.\n",
    "Эмпирическое распределение частот некоторого номинативного признака с тремя градациями приняло вид\n",
    "18, 55, 27. Предполагаемое теоретическое распределение — 1 : 2 : 1.\n",
    "\n",
    "Рассчитайте расстояние хи-квадрат и введите получившееся значение с точностью хотя бы до одной цифры после запятой.\n"
   ]
  },
  {
   "cell_type": "code",
   "execution_count": 12,
   "metadata": {},
   "outputs": [
    {
     "data": {
      "text/plain": [
       "2.6"
      ]
     },
     "execution_count": 12,
     "metadata": {},
     "output_type": "execute_result"
    }
   ],
   "source": [
    "observed = np.array([18, 55, 27])\n",
    "N = np.sum(observed)\n",
    "expected = np.array([N/4, N/2, N/4], dtype=int)\n",
    "chi_squared = np.sum((observed - expected)**2/expected)\n",
    "np.round(chi_squared, 1)"
   ]
  },
  {
   "cell_type": "code",
   "execution_count": 15,
   "metadata": {},
   "outputs": [
    {
     "data": {
      "text/plain": [
       "2.62"
      ]
     },
     "execution_count": 15,
     "metadata": {},
     "output_type": "execute_result"
    }
   ],
   "source": [
    "stats.chisquare(observed, expected).statistic"
   ]
  },
  {
   "cell_type": "markdown",
   "metadata": {},
   "source": [
    "**Ответ**: 2.6"
   ]
  },
  {
   "cell_type": "markdown",
   "metadata": {},
   "source": [
    "## [1.4 Распределение Хи-квадрат Пирсона](https://stepik.org/lesson/24814/step/1?unit=7105)\n",
    "\n",
    "Для начала просто смоделируем то, как будет выглядеть это распределение\n",
    "\n",
    "`Задание`\n",
    "\n",
    "Ваши ставки! Как будет выглядеть распределение расстояния хи-квадрат в нашем эксперименте с монеткой при многократном повторении эксперимента (при условии, что верна нулевая гипотеза). \n",
    "\n",
    "Представьте, что мы при каждом повторении эксперимента рассчитываем расстояние хи - квадрат и в итоге строим гистограмму получившихся значений.\n",
    "\n",
    "**Ответ**: Распределение будет обладать явно выраженной асимметрией, большинство значений сгруппируются около нуля."
   ]
  },
  {
   "cell_type": "markdown",
   "metadata": {},
   "source": [
    "Проведем симуляцию для монетки"
   ]
  },
  {
   "cell_type": "code",
   "execution_count": 33,
   "metadata": {},
   "outputs": [],
   "source": [
    "def get_chi_squared(n, p, trials):\n",
    "    chi_squared = np.zeros(trials, dtype=float)\n",
    "    for i in range(trials):\n",
    "        experiments = np.array([np.random.rand() <= p for _ in range(n)])\n",
    "        observed = np.bincount(experiments)\n",
    "        expected = np.array([p*n, (1-p)*n])\n",
    "        chi_squared[i] = stats.chisquare(observed, expected).statistic\n",
    "    return chi_squared"
   ]
  },
  {
   "cell_type": "code",
   "execution_count": 36,
   "metadata": {},
   "outputs": [],
   "source": [
    "chi_squared = get_chi_squared(60, 0.5, 10000)"
   ]
  },
  {
   "cell_type": "code",
   "execution_count": 49,
   "metadata": {},
   "outputs": [
    {
     "data": {
      "image/png": "[encoded data removed]",
      "text/plain": [
       "<Figure size 432x288 with 1 Axes>"
      ]
     },
     "metadata": {},
     "output_type": "display_data"
    }
   ],
   "source": [
    "sns.set_style(\"darkgrid\")\n",
    "sns.set_palette(\"bright\")\n",
    "sns.distplot(a=chi_squared, kde=False, bins=10)\n",
    "plt.show()"
   ]
  },
  {
   "cell_type": "markdown",
   "metadata": {},
   "source": [
    "При расчете $\\chi^2$ - критерия, стоит заметить, что корень из каждого слагаемого в сумме подчиняется нормальному распределению"
   ]
  },
  {
   "cell_type": "markdown",
   "metadata": {},
   "source": [
    "_Распределение $\\chi^2$ с $k$ степенями свободы_ - распределение суммы квадратов независимых $k$ величин, каждая из которых подчиняются стандартному нормальному распределению "
   ]
  },
  {
   "cell_type": "markdown",
   "metadata": {},
   "source": [
    "Двумерное нормальное распределение"
   ]
  },
  {
   "cell_type": "code",
   "execution_count": 59,
   "metadata": {},
   "outputs": [],
   "source": [
    "x = np.random.normal(size=100)\n",
    "y = np.random.normal(size=100)"
   ]
  },
  {
   "cell_type": "code",
   "execution_count": 60,
   "metadata": {},
   "outputs": [
    {
     "data": {
      "image/png": "[encoded data removed]",
      "text/plain": [
       "<Figure size 432x288 with 1 Axes>"
      ]
     },
     "metadata": {},
     "output_type": "display_data"
    }
   ],
   "source": [
    "fig = plt.figure()\n",
    "ax = fig.add_subplot(111)\n",
    "sns.scatterplot(x=x, y=y)\n",
    "ax.set_title('Двумерное нормальное распределение', fontsize=15)\n",
    "plt.show()"
   ]
  },
  {
   "cell_type": "code",
   "execution_count": 61,
   "metadata": {},
   "outputs": [],
   "source": [
    "x = np.random.normal(size=1000)\n",
    "y = np.random.normal(size=1000)"
   ]
  },
  {
   "cell_type": "code",
   "execution_count": 62,
   "metadata": {},
   "outputs": [
    {
     "data": {
      "text/plain": [
       "<seaborn.axisgrid.JointGrid at 0x16c2f384730>"
      ]
     },
     "execution_count": 62,
     "metadata": {},
     "output_type": "execute_result"
    },
    {
     "data": {
      "image/png": "[encoded data removed]",
      "text/plain": [
       "<Figure size 432x432 with 3 Axes>"
      ]
     },
     "metadata": {},
     "output_type": "display_data"
    }
   ],
   "source": [
    "sns.jointplot(x=x, y=y, kind='hex')"
   ]
  },
  {
   "cell_type": "markdown",
   "metadata": {},
   "source": [
    "Соответственно, для проверки нашей гипотезы можно просто сравнить полученный критерий с критическим, рассчитаем его для 95% уровня значимости"
   ]
  },
  {
   "cell_type": "code",
   "execution_count": 65,
   "metadata": {},
   "outputs": [
    {
     "data": {
      "text/plain": [
       "5.991464547107979"
      ]
     },
     "execution_count": 65,
     "metadata": {},
     "output_type": "execute_result"
    }
   ],
   "source": [
    "stats.chi2.ppf(0.95, 2)"
   ]
  },
  {
   "cell_type": "markdown",
   "metadata": {},
   "source": [
    "Число степеней свободы, однако, равняется $n-1$"
   ]
  },
  {
   "cell_type": "markdown",
   "metadata": {},
   "source": [
    "Посмотрим на вид распределения в зависимости от числа степеней свободы"
   ]
  },
  {
   "cell_type": "code",
   "execution_count": 74,
   "metadata": {},
   "outputs": [
    {
     "data": {
      "image/png": "[encoded data removed]",
      "text/plain": [
       "<Figure size 432x288 with 1 Axes>"
      ]
     },
     "metadata": {},
     "output_type": "display_data"
    }
   ],
   "source": [
    "x = np.linspace(0, 10, 100)\n",
    "for df in range(1, 10, 2):\n",
    "    plt.plot(x, stats.chi2.pdf(x, df=df), label=f'df={df}')\n",
    "    plt.legend(prop={'size': 11})\n",
    "plt.title('$\\chi^2$ distribution')\n",
    "plt.show()"
   ]
  },
  {
   "cell_type": "markdown",
   "metadata": {},
   "source": [
    "`Задание`\n",
    "\n",
    "Укажите верные высказывания:\n",
    "\n",
    "**Ответ**:\n",
    "\n",
    "Чем больше число степеней свободы у распределения хи-квадрат, тем более симметричным становится такое распределение.\n",
    "\n",
    "В распределении хи-квадрат число степеней свободы -- это всегда целое число.\n",
    "\n",
    "`Задание`\n",
    "\n",
    "В случае распределения хи–квадрат с двумя степенями свободы только 5% наблюдений превосходят критическое значение 5.99. Таким образом, при $\\alpha = 0.05$ мы можем отклонить нулевую гипотезу, если получим значение $\\chi^2\\gt 5.99$ Что произойдет при увеличении числа степеней свободы?\n",
    "\n",
    "**Ответ**: Критическое значение для отклонения нулевой гипотезы при ɑ = 0.05 станет больше"
   ]
  },
  {
   "cell_type": "markdown",
   "metadata": {},
   "source": [
    "Давайте вспомним как рассчитывается значение статистики в тесте Стьюдента (на примере одновыборочного теста):\n",
    "$$\n",
    "\\LARGE t = \\frac{\\bar{x} - \\mu }{s/\\sqrt{n}}\n",
    "$$\n",
    "\n",
    "В знаменателе у нас находится стандартная ошибка, которая представляет собой выборочное стандартное отклонение, делённое на  корень из объёма выборки. В расчёт стандартного отклонения входит сумма квадратов отклонений наблюдаемых значений от их среднего значения - то есть сумма нескольких случайных положительных величин. А из предыдущих степов мы знаем, что сумма квадратов n случайных положительных величин может быть описана при помощи распределения хи-квадрат с n-1 степеням свободы! Так как зная выборочное среднее и n-1 элементов выборки мы всегда можем точно задать последний элемент! Получается, в знаменателе t-статистики у нас спрятано распределение хи-квадрат, для которого нам и нужно знать количество степеней свободы! Таким образом, степени свободы в T-распределении на самом деле берутся из распределения хи-квадрат, которое спрятано в формуле T-статистики.\n",
    "\n",
    "Давайте теперь вспомним формулу F-статистики, которая является главным показателем дисперсионного анализа:\n",
    "$$\n",
    "F = \\frac{\\sum_{j=1}^{k} (\\bar{y_{j}} - \\bar{y})^2/(k-1)}{\\sum_{j=1}^{k}\\sum_{i=1}^{n_{j}} (y_{ij} - \\bar{y_{j}})^2/(n-k)} \n",
    "$$\n",
    "   \n",
    "В числителе находится сумма квадратов отклонений групповых средних от общего среднего. В знаменателе у нас сумма квадратов отклонений наблюдений от внутригрупповых средних. Таким образом, у нас опять две величины, складывающиеся из квадратов независимых положительных случайных величин. Высчитывая F-значение, мы делим одну величину, имеющую распределение хи-квадрат, на другую величину, имеющую распределение хи-квадрат. Каждой из них соответствует своё количество степеней свободы. Получается, что распределение F-статистики будет характеризоваться двумя параметрами - степенями свободы для двух распределений хи-квадрат!"
   ]
  },
  {
   "cell_type": "markdown",
   "metadata": {},
   "source": [
    "## [1.5 Расчет p-уровня значимости](https://stepik.org/lesson/26445/step/1?unit=8327)\n",
    "\n",
    "Вернемся к примеру с монеткой, стоит заметить, что в критерии $\\chi^2$ находятся два слагаемых, которые являются зависимыми, так как число выпадений решки мы всегда можем определить по числу в выборке орлов. И поэтому число степеней $df$ равно 1.\n",
    "\n",
    "`Задание`\n",
    "\n",
    "Я думаю, вы уловили идею, как рассчитать число степеней свободы для общего случая! Предположим, что мы теперь тестируем гипотезу о том, что наша игральная кость с шестью гранями абсолютно честная, и каждая грань выпадает с одинаковой частотой. Мы сделали 100 бросков и зафиксировали наблюдаемые частоты. Укажите число степеней свободы распределения хи-квадрат, которое мы получим в таком случае!\n",
    "\n",
    "В поле для ответ введите одно число.\n",
    "\n",
    "**Ответ**: 5"
   ]
  },
  {
   "cell_type": "markdown",
   "metadata": {},
   "source": [
    "Перейдем к проверке статистических гипотез. Напомним задачу. Подбрасываем монетку 60 раз, хотим проверить насколько монетка честная. \n",
    "\n",
    "| - | Результаты подбрасываний | Ожидаемые значения |\n",
    "| --- | --- | --- |\n",
    "| Решка | 20 | 30 |\n",
    "| Орел | 40 | 30 |"
   ]
  },
  {
   "cell_type": "code",
   "execution_count": 3,
   "metadata": {},
   "outputs": [],
   "source": [
    "observed = np.array([20, 40])\n",
    "expected = np.array([30, 30])\n",
    "\n",
    "chi_squared = np.sum((observed - expected)**2/expected)"
   ]
  },
  {
   "cell_type": "markdown",
   "metadata": {},
   "source": [
    "Статистическая гипотеза:\n",
    "\n",
    "$H_0: p_{орёл} = 0.5$\n",
    "\n",
    "$H_1: p_{орёл} \\ne 0.5$"
   ]
  },
  {
   "cell_type": "code",
   "execution_count": 7,
   "metadata": {},
   "outputs": [
    {
     "data": {
      "text/plain": [
       "0.009823274507519186"
      ]
     },
     "execution_count": 7,
     "metadata": {},
     "output_type": "execute_result"
    }
   ],
   "source": [
    "1 - stats.chi2.cdf(chi_squared, df=1)"
   ]
  },
  {
   "cell_type": "code",
   "execution_count": 8,
   "metadata": {},
   "outputs": [
    {
     "data": {
      "text/plain": [
       "Power_divergenceResult(statistic=6.666666666666667, pvalue=0.009823274507519235)"
      ]
     },
     "execution_count": 8,
     "metadata": {},
     "output_type": "execute_result"
    }
   ],
   "source": [
    "stats.chisquare(observed, expected)"
   ]
  },
  {
   "cell_type": "markdown",
   "metadata": {},
   "source": [
    "`Задание`\n",
    "\n",
    "Какая доля наблюдений лежит в диапазоне от 2 до 4 у распределения хи-квадрат с двумя степенями свободы?\n",
    "\n",
    " \n",
    "\n",
    "Ссылка на калькулятор p-уровня значимости: https://gallery.shinyapps.io/dist_calc/.\n",
    "\n",
    " \n",
    "\n",
    "В поле для ответа введите десятичную дробь от 0 до 1. Пример ответа:\n",
    "\n",
    "0,4566"
   ]
  },
  {
   "cell_type": "code",
   "execution_count": 10,
   "metadata": {},
   "outputs": [
    {
     "data": {
      "text/plain": [
       "0.2325"
      ]
     },
     "execution_count": 10,
     "metadata": {},
     "output_type": "execute_result"
    }
   ],
   "source": [
    "np.round(stats.chi2.cdf(4, df=2) - stats.chi2.cdf(2, df=2), 4)"
   ]
  },
  {
   "cell_type": "markdown",
   "metadata": {},
   "source": [
    "**Ответ**: 0.2325"
   ]
  },
  {
   "cell_type": "markdown",
   "metadata": {},
   "source": [
    "`Задание`\n",
    "\n",
    "Теперь рассчитаем p-уровень значимости для нашего примера с игральной костью. Напомню, что мы получили следующие значения наблюдаемых частот (от единички до шестерки):\n",
    "\n",
    "10, 10, 10, 5, 10, 15\n",
    "\n",
    "Проверьте нулевую гипотезу о том, что эмпирическое распределение частот не отличается от равномерного. В поле для ответа введите получившийся p-уровень значимости. \n",
    "\n",
    "Ссылка на калькулятор p-уровня значимости: https://gallery.shinyapps.io/dist_calc/."
   ]
  },
  {
   "cell_type": "code",
   "execution_count": 11,
   "metadata": {},
   "outputs": [],
   "source": [
    "observed = np.array([10, 10, 10, 5, 10, 15])\n",
    "expected = np.array([np.sum(observed)/6]*6, dtype=int)"
   ]
  },
  {
   "cell_type": "code",
   "execution_count": 13,
   "metadata": {},
   "outputs": [],
   "source": [
    "chi_squared = np.sum((observed - expected)**2/expected)"
   ]
  },
  {
   "cell_type": "code",
   "execution_count": 15,
   "metadata": {},
   "outputs": [
    {
     "data": {
      "text/plain": [
       "0.4159"
      ]
     },
     "execution_count": 15,
     "metadata": {},
     "output_type": "execute_result"
    }
   ],
   "source": [
    "np.round(1 - stats.chi2.cdf(chi_squared, df=5), 4)"
   ]
  },
  {
   "cell_type": "markdown",
   "metadata": {},
   "source": [
    "**Ответ**: 0.4159"
   ]
  },
  {
   "cell_type": "markdown",
   "metadata": {},
   "source": [
    "`Задание`\n",
    "\n",
    "Вернемся к нашему примеру с политическими партиями! Проверьте гипотезу о том, что в ГС нет никаких различий в предпочтениях трех партий. Введите в поле для ответа получившееся значение статистики хи-квадрат с точностью хотя бы до одной цифры после запятой.\n",
    "\n",
    "![\"Alt-text\"](./images/47.png)"
   ]
  },
  {
   "cell_type": "code",
   "execution_count": 16,
   "metadata": {},
   "outputs": [],
   "source": [
    "observed = np.array([10, 30, 50])\n",
    "expected = np.array([np.sum(observed)/len(observed)]*len(observed), dtype=int)"
   ]
  },
  {
   "cell_type": "code",
   "execution_count": 20,
   "metadata": {},
   "outputs": [
    {
     "data": {
      "text/plain": [
       "26.7"
      ]
     },
     "execution_count": 20,
     "metadata": {},
     "output_type": "execute_result"
    }
   ],
   "source": [
    "chi_squared = np.sum((observed - expected)**2/expected)\n",
    "np.round(chi_squared, 1)"
   ]
  },
  {
   "cell_type": "markdown",
   "metadata": {},
   "source": [
    "**Ответ**: 26.7"
   ]
  },
  {
   "cell_type": "code",
   "execution_count": 19,
   "metadata": {},
   "outputs": [
    {
     "data": {
      "text/plain": [
       "0.0"
      ]
     },
     "execution_count": 19,
     "metadata": {},
     "output_type": "execute_result"
    }
   ],
   "source": [
    "np.round(1 - stats.chi2.cdf(chi_squared, df=2), 4)"
   ]
  },
  {
   "cell_type": "markdown",
   "metadata": {},
   "source": [
    "`Задание` \n",
    "\n",
    "Проинтерпретируем  полученный результат.\n",
    "\n",
    "**Ответ**: $p < 0,05$. Отклоняем нулевую гипотезу."
   ]
  },
  {
   "cell_type": "markdown",
   "metadata": {},
   "source": [
    "`Задание`\n",
    "\n",
    "Укажите верные высказывания о результатах, полученных при сравнении предпочтений политических партий. \n",
    "\n",
    "\n",
    "**Ответ**: Отвергаем нулевую гипотезу о том, что число сторонников каждой из трех партий в генеральной совокупности одинаково.\n",
    "\n",
    "\n",
    "Принимаем альтернативную гипотезу, что распределение предпочтений избирателей отличается от равномерного."
   ]
  },
  {
   "cell_type": "markdown",
   "metadata": {},
   "source": [
    "`Задание`\n",
    "\n",
    "Недавно я пришел на лекцию в Институт биоинформатики и обнаружил, что в группе различное число студентов женского и мужского пола: 15 юношей и 9 девушек. Возможно, кого-то это и могло бы оставить равнодушным, а я вот сразу взял лист бумаги и ручку, чтобы проверить гипотезу о том, что распределение частот девушек и юношей не отличается от равномерного в генеральной совокупности биоинформатиков!\n",
    "\n",
    "Давайте сверим наши результаты. Введите в поле для ответа получившийся у вас p-уровень значимости."
   ]
  },
  {
   "cell_type": "code",
   "execution_count": 21,
   "metadata": {},
   "outputs": [],
   "source": [
    "observed = np.array([15, 9])\n",
    "expected = np.array([np.sum(observed)/len(observed)]*len(observed), dtype=int)"
   ]
  },
  {
   "cell_type": "code",
   "execution_count": 22,
   "metadata": {},
   "outputs": [
    {
     "data": {
      "text/plain": [
       "1.5"
      ]
     },
     "execution_count": 22,
     "metadata": {},
     "output_type": "execute_result"
    }
   ],
   "source": [
    "chi_squared = np.sum((observed - expected)**2/expected)\n",
    "np.round(chi_squared, 1)"
   ]
  },
  {
   "cell_type": "code",
   "execution_count": 24,
   "metadata": {},
   "outputs": [
    {
     "data": {
      "text/plain": [
       "0.2207"
      ]
     },
     "execution_count": 24,
     "metadata": {},
     "output_type": "execute_result"
    }
   ],
   "source": [
    "np.round(1 - stats.chi2.cdf(chi_squared, df=1), 4)"
   ]
  },
  {
   "cell_type": "markdown",
   "metadata": {},
   "source": [
    "**Ответ**: 0.2207"
   ]
  },
  {
   "cell_type": "markdown",
   "metadata": {},
   "source": [
    "`Задание`\n",
    "\n",
    "В 2013 году Эдвард Сноуден передал СМИ секретную информацию АНБ, касающуюся слежки американских спецслужб за информационными коммуникациями между гражданами. Однако ﻿его поступок вызвал неоднозначную реакцию в обществе. Исследовательский центр USA TODAY провел опрос 1500 граждан США с целью выяснить, воспринимают ли они поступок Сноудена как положительный или отрицательный. 53% опрошенных респондентов оценили разоблачение положительно.\n",
    "\n",
    "При помощи теста хи-квадрат проверьте нулевую гипотезу о том, что в генеральной совокупности распределение отношения к поступку Сноудена является равномерным, то есть 50 на 50.\n",
    "\n",
    "Введите в ответ получившийся p-уровень значимости для проверки этой гипотезы. \n",
    "\n",
    "https://gallery.shinyapps.io/dist_calc/"
   ]
  },
  {
   "cell_type": "code",
   "execution_count": 31,
   "metadata": {},
   "outputs": [],
   "source": [
    "observed = np.array([1500*0.53, 1500*0.47])\n",
    "expected = np.array([np.sum(observed)/len(observed)]*len(observed), dtype=float)"
   ]
  },
  {
   "cell_type": "code",
   "execution_count": 33,
   "metadata": {},
   "outputs": [
    {
     "data": {
      "text/plain": [
       "5.4"
      ]
     },
     "execution_count": 33,
     "metadata": {},
     "output_type": "execute_result"
    }
   ],
   "source": [
    "chi_squared = np.sum((observed - expected)**2/expected)\n",
    "np.round(chi_squared, 1)"
   ]
  },
  {
   "cell_type": "code",
   "execution_count": 34,
   "metadata": {},
   "outputs": [
    {
     "data": {
      "text/plain": [
       "0.0201"
      ]
     },
     "execution_count": 34,
     "metadata": {},
     "output_type": "execute_result"
    }
   ],
   "source": [
    "np.round(1 - stats.chi2.cdf(chi_squared, df=1), 4)"
   ]
  },
  {
   "cell_type": "markdown",
   "metadata": {},
   "source": [
    "**Ответ**: 0.0201"
   ]
  },
  {
   "cell_type": "markdown",
   "metadata": {},
   "source": [
    "## [1.6 Анализ таблиц сопряженности](https://stepik.org/lesson/26446/step/1?unit=8329)\n",
    "\n",
    "Критерий $\\chi^2$ Пирсона позволяет, разумеется, проверять статистические гипотезы не только для равномерного распределения, но и для произвольного.\n",
    "\n",
    "Перейдем к задаче, называемой анализ таблиц сопряженности.\n",
    "\n",
    "Начнем сразу с конкретной задачи:\n",
    "\n",
    "Данная таблица называется таблицей сопряженности\n",
    "\n",
    "| - | Юноши | Девушки |\n",
    "| --- | --- | --- |\n",
    "| Биологи | 15 | 9 |\n",
    "| Информатики | 11 | 6 |\n",
    "\n",
    "Имеем две номинативные переменные: пол и профессия, обе с двумя градациями. \n",
    "\n",
    "Нулевая гипотеза: распределение не отличается от ожидаемого.\n",
    "\n",
    "Альтернативная гипотеза: распределение отличается от ожидаемого или иными словами: две переменные взаимосвязаны между собой.\n",
    "\n",
    "Добавим в таблицу графу всего:"
   ]
  },
  {
   "cell_type": "code",
   "execution_count": 41,
   "metadata": {},
   "outputs": [],
   "source": [
    "data = pd.DataFrame({'Profession': ['Biologist', 'Computer_Scientist'], 'Male': np.array([15, 11]), 'Female': np.array([9, 6])})\n",
    "data = data.set_index('Profession')\n",
    "data['Total'] = sum([data[i] for i in data.columns])\n",
    "data.loc[3] = [data[i].sum() for i in data.columns]\n",
    "data = data.rename({3: 'Total'})"
   ]
  },
  {
   "cell_type": "code",
   "execution_count": 42,
   "metadata": {},
   "outputs": [
    {
     "data": {
      "text/html": [
       "<div>\n",
       "<style scoped>\n",
       "    .dataframe tbody tr th:only-of-type {\n",
       "        vertical-align: middle;\n",
       "    }\n",
       "\n",
       "    .dataframe tbody tr th {\n",
       "        vertical-align: top;\n",
       "    }\n",
       "\n",
       "    .dataframe thead th {\n",
       "        text-align: right;\n",
       "    }\n",
       "</style>\n",
       "<table border=\"1\" class=\"dataframe\">\n",
       "  <thead>\n",
       "    <tr style=\"text-align: right;\">\n",
       "      <th></th>\n",
       "      <th>Male</th>\n",
       "      <th>Female</th>\n",
       "      <th>Total</th>\n",
       "    </tr>\n",
       "    <tr>\n",
       "      <th>Profession</th>\n",
       "      <th></th>\n",
       "      <th></th>\n",
       "      <th></th>\n",
       "    </tr>\n",
       "  </thead>\n",
       "  <tbody>\n",
       "    <tr>\n",
       "      <th>Biologist</th>\n",
       "      <td>15</td>\n",
       "      <td>9</td>\n",
       "      <td>24</td>\n",
       "    </tr>\n",
       "    <tr>\n",
       "      <th>Computer_Scientist</th>\n",
       "      <td>11</td>\n",
       "      <td>6</td>\n",
       "      <td>17</td>\n",
       "    </tr>\n",
       "    <tr>\n",
       "      <th>Total</th>\n",
       "      <td>26</td>\n",
       "      <td>15</td>\n",
       "      <td>41</td>\n",
       "    </tr>\n",
       "  </tbody>\n",
       "</table>\n",
       "</div>"
      ],
      "text/plain": [
       "                    Male  Female  Total\n",
       "Profession                             \n",
       "Biologist             15       9     24\n",
       "Computer_Scientist    11       6     17\n",
       "Total                 26      15     41"
      ]
     },
     "execution_count": 42,
     "metadata": {},
     "output_type": "execute_result"
    }
   ],
   "source": [
    "data"
   ]
  },
  {
   "cell_type": "markdown",
   "metadata": {},
   "source": [
    "Поставим нулевую гипотезу о том, что переменная пол никак не зависит от переменной профессия. \n",
    "\n",
    "Возникает вопрос как выглядит таблица сопряженности при условии, что нулевая гипотеза верна. Первым ответом может быть равномерное заполнение таблицы, что не верно, так как в выборке может быть дисбаланс между классами, который должен сохрнаиться в таблице."
   ]
  },
  {
   "cell_type": "markdown",
   "metadata": {},
   "source": [
    "Количество юношей в группах"
   ]
  },
  {
   "cell_type": "code",
   "execution_count": 49,
   "metadata": {},
   "outputs": [
    {
     "data": {
      "text/plain": [
       "0.6341463414634146"
      ]
     },
     "execution_count": 49,
     "metadata": {},
     "output_type": "execute_result"
    }
   ],
   "source": [
    "male_ratio = data['Male']['Total']/data['Total']['Total']\n",
    "male_ratio"
   ]
  },
  {
   "cell_type": "code",
   "execution_count": 50,
   "metadata": {},
   "outputs": [
    {
     "data": {
      "text/plain": [
       "0.36585365853658536"
      ]
     },
     "execution_count": 50,
     "metadata": {},
     "output_type": "execute_result"
    }
   ],
   "source": [
    "female_ratio = data['Female']['Total']/data['Total']['Total']\n",
    "female_ratio"
   ]
  },
  {
   "cell_type": "markdown",
   "metadata": {},
   "source": [
    "Тогда в таблице сопряженности"
   ]
  },
  {
   "cell_type": "code",
   "execution_count": 54,
   "metadata": {},
   "outputs": [],
   "source": [
    "expected_bio = np.array([male_ratio * data['Total']['Biologist'], \n",
    "                         female_ratio * data['Total']['Biologist']])\n",
    "expected_cs = np.array([male_ratio * data['Total']['Computer_Scientist'],\n",
    "                        female_ratio * data['Total']['Computer_Scientist']])"
   ]
  },
  {
   "cell_type": "code",
   "execution_count": 55,
   "metadata": {},
   "outputs": [
    {
     "data": {
      "text/plain": [
       "array([15.2195122,  8.7804878])"
      ]
     },
     "execution_count": 55,
     "metadata": {},
     "output_type": "execute_result"
    }
   ],
   "source": [
    "expected_bio"
   ]
  },
  {
   "cell_type": "code",
   "execution_count": 56,
   "metadata": {},
   "outputs": [
    {
     "data": {
      "text/plain": [
       "array([10.7804878,  6.2195122])"
      ]
     },
     "execution_count": 56,
     "metadata": {},
     "output_type": "execute_result"
    }
   ],
   "source": [
    "expected_cs"
   ]
  },
  {
   "cell_type": "code",
   "execution_count": 63,
   "metadata": {},
   "outputs": [],
   "source": [
    "expected_male = np.array([expected_bio[0]] + [expected_cs[0]])\n",
    "expected_female = np.array([expected_bio[1]] + [expected_cs[1]])"
   ]
  },
  {
   "cell_type": "code",
   "execution_count": 69,
   "metadata": {},
   "outputs": [
    {
     "data": {
      "text/html": [
       "<div>\n",
       "<style scoped>\n",
       "    .dataframe tbody tr th:only-of-type {\n",
       "        vertical-align: middle;\n",
       "    }\n",
       "\n",
       "    .dataframe tbody tr th {\n",
       "        vertical-align: top;\n",
       "    }\n",
       "\n",
       "    .dataframe thead th {\n",
       "        text-align: right;\n",
       "    }\n",
       "</style>\n",
       "<table border=\"1\" class=\"dataframe\">\n",
       "  <thead>\n",
       "    <tr style=\"text-align: right;\">\n",
       "      <th></th>\n",
       "      <th>Male</th>\n",
       "      <th>Female</th>\n",
       "      <th>Total</th>\n",
       "    </tr>\n",
       "    <tr>\n",
       "      <th>Profession</th>\n",
       "      <th></th>\n",
       "      <th></th>\n",
       "      <th></th>\n",
       "    </tr>\n",
       "  </thead>\n",
       "  <tbody>\n",
       "    <tr>\n",
       "      <th>Biologist</th>\n",
       "      <td>15.219512</td>\n",
       "      <td>8.780488</td>\n",
       "      <td>24.0</td>\n",
       "    </tr>\n",
       "    <tr>\n",
       "      <th>Computer_Scientist</th>\n",
       "      <td>10.780488</td>\n",
       "      <td>6.219512</td>\n",
       "      <td>17.0</td>\n",
       "    </tr>\n",
       "    <tr>\n",
       "      <th>Total</th>\n",
       "      <td>26.000000</td>\n",
       "      <td>15.000000</td>\n",
       "      <td>41.0</td>\n",
       "    </tr>\n",
       "  </tbody>\n",
       "</table>\n",
       "</div>"
      ],
      "text/plain": [
       "                         Male     Female  Total\n",
       "Profession                                     \n",
       "Biologist           15.219512   8.780488   24.0\n",
       "Computer_Scientist  10.780488   6.219512   17.0\n",
       "Total               26.000000  15.000000   41.0"
      ]
     },
     "execution_count": 69,
     "metadata": {},
     "output_type": "execute_result"
    }
   ],
   "source": [
    "data_exp = pd.DataFrame({'Profession': ['Biologist', 'Computer_Scientist'], 'Male': expected_male, 'Female': expected_female})\n",
    "data_exp = data_exp.set_index('Profession')\n",
    "data_exp['Total'] = sum([data_exp[i] for i in data_exp.columns])\n",
    "data_exp.loc[3] = [data_exp[i].sum() for i in data_exp.columns]\n",
    "data_exp = data_exp.rename({3: 'Total'})\n",
    "data_exp"
   ]
  },
  {
   "cell_type": "markdown",
   "metadata": {},
   "source": [
    "Формула в общем виде для ожидаемой таблицы сопряженности:\n",
    "\n",
    "$$\n",
    "\\frac{f_i\\cdot f_j}{N} \n",
    "$$\n",
    "\n",
    "где $f_i$ сумма в строке $f_j$ сумма в столбце"
   ]
  },
  {
   "cell_type": "code",
   "execution_count": 71,
   "metadata": {},
   "outputs": [],
   "source": [
    "data_init = np.array([[15, 9], [11, 6]])"
   ]
  },
  {
   "cell_type": "code",
   "execution_count": 77,
   "metadata": {},
   "outputs": [
    {
     "data": {
      "text/plain": [
       "array([[15.2195122,  8.7804878],\n",
       "       [10.7804878,  6.2195122]])"
      ]
     },
     "execution_count": 77,
     "metadata": {},
     "output_type": "execute_result"
    }
   ],
   "source": [
    "np.outer(data_init.sum(axis=1), data_init.sum(axis=0))/data_init.flatten().sum()"
   ]
  },
  {
   "cell_type": "markdown",
   "metadata": {},
   "source": [
    "`Задание`\n",
    "\n",
    "В таблице представлены результаты эксперимента, направленного на проверку гипотезы о взаимосвязи двух номинативных переменных с двумя градациями. Рассчитайте ожидаемые частоты для проверки нулевой гипотезы о независимости двух переменных X и Y.\n",
    "\n",
    "![\"Alt-text\"](./images/48.png)\n",
    "\n",
    "В поле для ответа напишите максимальное значение из четырех ожидаемых частот."
   ]
  },
  {
   "cell_type": "code",
   "execution_count": 80,
   "metadata": {},
   "outputs": [],
   "source": [
    "data_init = np.array([[10, 6], [5, 15]])"
   ]
  },
  {
   "cell_type": "code",
   "execution_count": 82,
   "metadata": {},
   "outputs": [
    {
     "data": {
      "text/plain": [
       "11.67"
      ]
     },
     "execution_count": 82,
     "metadata": {},
     "output_type": "execute_result"
    }
   ],
   "source": [
    "np.round(np.max( (np.outer(data_init.sum(axis=1), data_init.sum(axis=0))/data_init.flatten().sum()).flatten()), 2)"
   ]
  },
  {
   "cell_type": "markdown",
   "metadata": {},
   "source": [
    "**Ответ**: 11.67"
   ]
  },
  {
   "cell_type": "markdown",
   "metadata": {},
   "source": [
    "`Задание`\n",
    "\n",
    "Взгляните на формулу для расчета ожидаемых частот в таблице сопряженности:\n",
    "$$\n",
    "f_{i, j} = \\frac{f_{i}*f_{j}}{N}\\\\f_{i}\n",
    "- число~наблюдений~в~i-ой~строке\\\\f_{j} - число~наблюдений~в~j-ом~столбце,\\\\ N - общее~количество~наблюдений~в~таблице\n",
    "$$\n",
    "Укажите верные высказывания\n",
    "\n",
    "**Ответ**: В таблице сопряженности два на два значения ожидаемых частот могут быть равны друг другу."
   ]
  },
  {
   "cell_type": "markdown",
   "metadata": {},
   "source": [
    "## [1.7 Анализ таблиц сопряженности. Продолжение](https://stepik.org/lesson/26448/step/1?unit=8330)\n",
    "\n",
    "Теперь перейдем к подсчету критерия $\\chi^2$"
   ]
  },
  {
   "cell_type": "code",
   "execution_count": 5,
   "metadata": {},
   "outputs": [],
   "source": [
    "data_init = np.array([[15, 9], \n",
    "                      [11, 6]])"
   ]
  },
  {
   "cell_type": "code",
   "execution_count": 6,
   "metadata": {},
   "outputs": [
    {
     "data": {
      "text/plain": [
       "array([[15.2195122,  8.7804878],\n",
       "       [10.7804878,  6.2195122]])"
      ]
     },
     "execution_count": 6,
     "metadata": {},
     "output_type": "execute_result"
    }
   ],
   "source": [
    "data_exp = np.outer(data_init.sum(axis=1), data_init.sum(axis=0))/data_init.flatten().sum()\n",
    "data_exp"
   ]
  },
  {
   "cell_type": "code",
   "execution_count": 9,
   "metadata": {},
   "outputs": [
    {
     "data": {
      "text/plain": [
       "0.020871040723981833"
      ]
     },
     "execution_count": 9,
     "metadata": {},
     "output_type": "execute_result"
    }
   ],
   "source": [
    "((data_init - data_exp)*(data_init - data_exp)/data_exp).flatten().sum()"
   ]
  },
  {
   "cell_type": "markdown",
   "metadata": {},
   "source": [
    "Число степеней свободы равно 1, так как оставив только одну ячейку в наших данных, но зная количество наблюдений, мы всегда без труда отыщем остальные значения"
   ]
  },
  {
   "cell_type": "markdown",
   "metadata": {},
   "source": [
    "В силу того, что на практике зачастую $\\chi^2$ принимает некоторый набор дискретных значений, то применяют поправку Йетса, рассчиывая коэффициент по следюущей формуле:\n",
    "\n",
    "$$\n",
    "\\chi^2_{Yates} = \\sum \\frac{ (|f_o - f_e | - 0.5)^2} {f_e}\n",
    "$$\n",
    "\n",
    "Обычно его применяют, когда частоты меньше 10"
   ]
  },
  {
   "cell_type": "code",
   "execution_count": 10,
   "metadata": {},
   "outputs": [
    {
     "data": {
      "text/plain": [
       "0.0340764831573656"
      ]
     },
     "execution_count": 10,
     "metadata": {},
     "output_type": "execute_result"
    }
   ],
   "source": [
    "((np.abs(data_init - data_exp)-0.5)**2/data_exp).flatten().sum()"
   ]
  },
  {
   "cell_type": "markdown",
   "metadata": {},
   "source": [
    "В пакет `scipy` $\\chi^2$ учитывается именно с поправкой"
   ]
  },
  {
   "cell_type": "code",
   "execution_count": 11,
   "metadata": {},
   "outputs": [
    {
     "data": {
      "text/plain": [
       "(0.0340764831573656,\n",
       " 0.8535442239746989,\n",
       " 1,\n",
       " array([[15.2195122,  8.7804878],\n",
       "        [10.7804878,  6.2195122]]))"
      ]
     },
     "execution_count": 11,
     "metadata": {},
     "output_type": "execute_result"
    }
   ],
   "source": [
    "stats.chi2_contingency(data_init)"
   ]
  },
  {
   "cell_type": "markdown",
   "metadata": {},
   "source": [
    "`Задание`\n",
    "\n",
    "При проверке гипотезы о взаимосвязи двух номинативных переменных мы можем принять альтернативную гипотезу\n",
    "\n",
    "**Ответ**: если в таблице есть значимые отклонения между наблюдаемыми и ожидаемыми значениями хотя бы в некоторых ячейках"
   ]
  },
  {
   "cell_type": "markdown",
   "metadata": {},
   "source": [
    "### Итоги\n",
    "\n",
    "Критерий $\\chi^2$ Пирсона:\n",
    "\n",
    "- Проверяет гипотезу о том, что наблюдаемое распределение номинативной переменной отличается от ожидаемого\n",
    "\n",
    "- Для одной номинативной переменной: $df=n-1$, где $n$ - число возможных значений переменной\n",
    "\n",
    "- Для таблиц сопряженности: $df=(n-1)\\cdot(m-1)$, где $n$ - количество столбцов, а $m$ - количество строк.\n",
    "\n",
    "Требования:\n",
    "\n",
    "- Все наблюдения независимы.\n",
    "\n",
    "- Минимальное количество **ожидаемых** частот в каждой из ячеек должно быть больше 5.\n",
    "\n",
    "\n",
    "Последнее требование следует из того, что мы ожидаем то, что слагаемые в критерии нормально распределены"
   ]
  },
  {
   "cell_type": "markdown",
   "metadata": {},
   "source": [
    "Заметим, что $\\chi^2$ не дает ответ на то, где именно возникло статистическое различие"
   ]
  },
  {
   "cell_type": "markdown",
   "metadata": {},
   "source": [
    "`Задание`\n",
    "\n",
    "Перед знаком стоп некоторые водители останавливаются полностью, другие лишь сбавляют скорость, но некоторые не останавливаются вообще. Важнейший вопрос, есть ли взаимосвязь между полом и стилем вождения автомобиля!  Ниже представлена таблица сопряженности данных исследования, посвященного этому вопросу.\n",
    "\n",
    "![\"Alt-text\"](./images/49.png)\n",
    "\n",
    "Чему равняется число степеней свободы в нашем случае?"
   ]
  },
  {
   "cell_type": "code",
   "execution_count": 12,
   "metadata": {},
   "outputs": [
    {
     "data": {
      "text/plain": [
       "2"
      ]
     },
     "execution_count": 12,
     "metadata": {},
     "output_type": "execute_result"
    }
   ],
   "source": [
    "(3-1)*(2-1)"
   ]
  },
  {
   "cell_type": "markdown",
   "metadata": {},
   "source": [
    "**Ответ**: 2"
   ]
  },
  {
   "cell_type": "markdown",
   "metadata": {},
   "source": [
    "`Задание`\n",
    "\n",
    "Перед знаком стоп некоторые водители останавливаются полностью, другие лишь сбавляют скорость, но некоторые не останавливаются вообще. Важнейший вопрос, есть ли взаимосвязь между полом и стилем вождения автомобиля!  Ниже представлена таблица сопряженности данных исследования, посвященного этому вопросу.\n",
    "\n",
    "Проверьте нулевую гипотезу о взаимосвязи стиля вождения и пола водителя. Введите получившейся p - уровень значимости."
   ]
  },
  {
   "cell_type": "code",
   "execution_count": 13,
   "metadata": {},
   "outputs": [],
   "source": [
    "data_init = np.array([[20, 15],\n",
    "                     [11, 12],\n",
    "                     [7, 9]])"
   ]
  },
  {
   "cell_type": "code",
   "execution_count": 14,
   "metadata": {},
   "outputs": [
    {
     "data": {
      "text/plain": [
       "array([[17.97297297, 17.02702703],\n",
       "       [11.81081081, 11.18918919],\n",
       "       [ 8.21621622,  7.78378378]])"
      ]
     },
     "execution_count": 14,
     "metadata": {},
     "output_type": "execute_result"
    }
   ],
   "source": [
    "data_exp = np.outer(data_init.sum(axis=1), data_init.sum(axis=0))/data_init.flatten().sum()\n",
    "data_exp"
   ]
  },
  {
   "cell_type": "code",
   "execution_count": 23,
   "metadata": {},
   "outputs": [
    {
     "data": {
      "text/plain": [
       "0.9544070774762996"
      ]
     },
     "execution_count": 23,
     "metadata": {},
     "output_type": "execute_result"
    }
   ],
   "source": [
    "chi_squared = ((((data_init - data_exp))**2)/data_exp).flatten().sum()\n",
    "chi_squared"
   ]
  },
  {
   "cell_type": "code",
   "execution_count": 25,
   "metadata": {},
   "outputs": [
    {
     "data": {
      "text/plain": [
       "0.621"
      ]
     },
     "execution_count": 25,
     "metadata": {},
     "output_type": "execute_result"
    }
   ],
   "source": [
    "np.round(1 - stats.chi2.cdf(chi_squared, df=2), 3)"
   ]
  },
  {
   "cell_type": "code",
   "execution_count": 19,
   "metadata": {},
   "outputs": [
    {
     "data": {
      "text/plain": [
       "(0.9544070774762996,\n",
       " 0.6205162173513055,\n",
       " 2,\n",
       " array([[17.97297297, 17.02702703],\n",
       "        [11.81081081, 11.18918919],\n",
       "        [ 8.21621622,  7.78378378]]))"
      ]
     },
     "execution_count": 19,
     "metadata": {},
     "output_type": "execute_result"
    }
   ],
   "source": [
    "stats.chi2_contingency(data_init)"
   ]
  },
  {
   "cell_type": "markdown",
   "metadata": {},
   "source": [
    "**Ответ**: 0.21"
   ]
  },
  {
   "cell_type": "markdown",
   "metadata": {},
   "source": [
    "`Задача`\n",
    "\n",
    "При проверке гипотезы о взаимосвязи двух номинативных переменных с двумя градациями (таблица сопряженности два на два), если на самом деле верна нулевая гипотеза и никакой взаимосвязи между переменными в генеральной совокупности нет, то справедливы следующие утверждения:\n",
    "\n",
    "**Ответ**:\n",
    "\n",
    "Число степеней свободы будет равняться одному\n",
    "\n",
    "Распределение статистики хи-квадрат будет обладать значительной асимметрией"
   ]
  },
  {
   "cell_type": "markdown",
   "metadata": {},
   "source": [
    "`Пример`\n",
    "\n",
    "Нельзя ли снизить риск тромбоза назначением небольших доз аспирина (160 мг/сут)?\n",
    "\n",
    "\n",
    "| - | Есть тромбоз | Нет тромбоза |\n",
    "| --- | --- | --- |\n",
    "| Плацебо | 18 | 7 |\n",
    "| Аспирин | 6 | 13 |"
   ]
  },
  {
   "cell_type": "code",
   "execution_count": 26,
   "metadata": {},
   "outputs": [],
   "source": [
    "data_init = np.array([[18, 7],\n",
    "                      [6, 13]])"
   ]
  },
  {
   "cell_type": "code",
   "execution_count": 27,
   "metadata": {},
   "outputs": [
    {
     "data": {
      "text/plain": [
       "(5.57719298245614,\n",
       " 0.018195864430772903,\n",
       " 1,\n",
       " array([[13.63636364, 11.36363636],\n",
       "        [10.36363636,  8.63636364]]))"
      ]
     },
     "execution_count": 27,
     "metadata": {},
     "output_type": "execute_result"
    }
   ],
   "source": [
    "stats.chi2_contingency(data_init)"
   ]
  },
  {
   "cell_type": "code",
   "execution_count": 37,
   "metadata": {},
   "outputs": [],
   "source": [
    "import matplotlib.patches as mpatches\n",
    "from statsmodels.graphics.mosaicplot import mosaic"
   ]
  },
  {
   "cell_type": "markdown",
   "metadata": {},
   "source": [
    "Для построения графиков остатков воспользуемся предоставленным [комментарием](https://stepik.org/lesson/26448/step/11?discussion=1666026&unit=8330):"
   ]
  },
  {
   "cell_type": "code",
   "execution_count": 41,
   "metadata": {},
   "outputs": [],
   "source": [
    "def mosaic_plot(data):\n",
    "    data = data.copy()\n",
    "    obs = data.unstack().T.values\n",
    "    chi, pval, dof, est = stats.chi2_contingency(obs)\n",
    "    remains = (obs - est)  / np.sqrt(est)\n",
    "\n",
    "    # Присваиваем соответствующие цвета\n",
    "    hex_colors = sns.color_palette(\"coolwarm\", 6).as_hex()\n",
    "    color_labels = ['<-4', '-4:-2', '-2:0', '0:2', '2:4', '>4'][::-1]\n",
    "    colors = pd.Series([x  for x in remains.ravel()], index=data.index, name='color')\n",
    "    valrange = np.array([-np.inf, -4, -2, 0, 2, 4, np.inf])\n",
    "    color_prop = {k: {'color' : hex_colors[np.argmax(v < valrange) - 1]}  for k, v in colors.iteritems()}\n",
    "    patches = [mpatches.Patch(color=c, label=l) for c, l in zip(hex_colors, color_labels)]\n",
    "\n",
    "    # Передаем все данные matplotlib\n",
    "    fig, ax = plt.subplots()\n",
    "    mosaic(data, gap=.02, properties=color_prop, ax=ax, labelizer= lambda x: '')\n",
    "    fig.legend(handles=patches, bbox_to_anchor=(0.6, 0., 0.5, 0.5))"
   ]
  },
  {
   "cell_type": "code",
   "execution_count": 47,
   "metadata": {},
   "outputs": [
    {
     "data": {
      "text/plain": [
       "Placebo   Normal        7\n",
       "          Trombosis    13\n",
       "Aspirine  Normal       18\n",
       "          Trombosis     6\n",
       "dtype: int64"
      ]
     },
     "execution_count": 47,
     "metadata": {},
     "output_type": "execute_result"
    }
   ],
   "source": [
    "cure = ['Placebo', 'Aspirine']\n",
    "effect = ['Normal', 'Trombosis']\n",
    "idx = pd.MultiIndex.from_tuples(itertools.product(cure, effect))\n",
    "data = pd.Series([7, 13, 18, 6], index=idx)\n",
    "data"
   ]
  },
  {
   "cell_type": "code",
   "execution_count": 48,
   "metadata": {},
   "outputs": [
    {
     "data": {
      "image/png": "[encoded data removed]",
      "text/plain": [
       "<Figure size 432x288 with 3 Axes>"
      ]
     },
     "metadata": {
      "needs_background": "light"
     },
     "output_type": "display_data"
    }
   ],
   "source": [
    "mosaic_plot(data)"
   ]
  },
  {
   "cell_type": "markdown",
   "metadata": {},
   "source": [
    "`Задание`\n",
    "\n",
    "Обратимся к данным о катастрофе «Титаника». На графике представлена взаимосвязь пола пассажира «Титаника» и того, выжил он или нет в катастрофе. Размеры прямоугольников отвечают за пропорции наблюдений в той или иной ячейке, а цвет прямоугольников — за значение стандартизованного остатка в ячейках. Какие выводы мы можем сделать, проанализировав данный график?\n",
    "\n",
    "![\"Alt-text\"](./images/50.png)\n",
    "\n",
    "\n",
    "**Ответ**: Значимые отклонения между наблюдаемыми и ожидаемыми результатами получены во всех ячейках, что позволяет говорить: мужчины вероятнее погибнут, чем выживут, а женщины — наоборот.\n",
    "\n",
    "На борту Титаника большинство пассажиров - мужчины\n",
    "\n",
    "Есть все основания отклонить нулевую гипотезу об отсутствии взаимосвязи пола и вероятности выжить в катастрофе.\n",
    "\n",
    "`Задание`\n",
    "\n",
    "А теперь изучим данные о взаимосвязи шанса выжить в кораблекрушении «Титаника» и класса билета пассажира. В данном случае график стандартизированных остатков построен по результатам таблицы сопряженности 3 на 2.\n",
    "\n",
    "Какие выводы мы можем сделать в данном случае?\n",
    "\n",
    "\n",
    "![\"Alt-text\"](./images/51.png)\n",
    "\n",
    "**Ответ**: Наши данные не позволяют нам сделать вывод о статистически значимом различии в вероятности выжить или погибнуть у пассажиров второго класса.\n",
    "\n",
    "Для пассажира с билетом первого класса вероятность выжить выше вероятности погибнуть.\n",
    "\n",
    "Пассажиры из третьего класса чаще погибали в катастрофе, чем пассажиры второго класса.\n",
    "\n",
    "\n",
    "`Задание`\n",
    "\n",
    "Аккуратность — наше все! Небольшое напоминание!\n",
    "\n",
    "Я думаю, каждый из вас мог сталкиваться на конференциях, постерах и иногда даже в опубликованных работах с таким описанием результатов: \n",
    "\n",
    "Мы проверили гипотезу при помощи критерия хи-квадрат и получили значимые различия (p < 0.05).\n",
    "\n",
    "В хороших  научных журналах очень большое внимание уделяется корректному представлению результатов статистического анализа. Такая скрупулезность в этом вопросе вовсе не прихоть редакторов. Предположим, другие исследователи захотели сравнить свои результаты с вашими. Могут ли они это сделать, если не знают ни объем вашей выборки, ни число степеней свободы для расчета p-уровня значимости и т. д.?\n",
    "\n",
    "Есть одно главное требование к оформлению научной работы или исследования: ваши данные должны быть воспроизводимы. И оформление результатов статистического теста не исключение. Всегда указывайте объем выборки, число степеней свободы, значение p-уровня значимости (если это значение может быть записано без сокращения, лучше укажите конкретное число). Оформляйте свои результаты грамотно в любых работах. Это займет у Вас лишние 30 секунд, но сделает вашу работу гораздо понятнее и ценнее в глазах коллег!\n",
    "\n",
    "Вернемся к нашему примеру с типом лекарства, укажите наиболее корректный способ предоставления результатов анализа.\n",
    "\n",
    "**Ответ**: Вероятность избежать тромбоза значимо выше в группе пациентов, употреблявших небольшие дозы аспирина: 68%, $n_{1} = 19$, чем в контрольной группе пациентов: 28%, $n_{2} = 25$, $\\chi^2(1) = 5.58, p = 0.018$\n",
    "\n",
    "\n",
    "`Задание`\n",
    "\n",
    "Допустим, мы решили провести исследование, целью которого было доказать влияние интересов водителей на безопасность их вождения. На выборке из 100 человек мы зафиксировали следующие показатели: смотрит ли человек онлайн-курсы на Stepic и попадал ли водитель в ДТП за последний год. В результате мы получили следующие данные:\n",
    "\n",
    "![\"Alt-text\"](./images/52.png)\n",
    "\n",
    "\n",
    "X-squared = 23.273, df = 1, p-value < 0.01\n",
    "Как мы можем проинтерпретировать полученные результаты?\n",
    "\n",
    "**Ответ**: Не стоит забывать, что ошибка корреляции может быть совершена и при использовании критерия хи-квадрат. Полученные данные говорят лишь о взаимосвязи двух переменных, но при таком дизайне исследования мы не можем быть уверены в наличии причинно-следственной связи между переменными!"
   ]
  },
  {
   "cell_type": "markdown",
   "metadata": {},
   "source": [
    "## [1.8 Точный критерий Фишера](https://stepik.org/lesson/26447/step/1?unit=8328)\n",
    "\n",
    "Критерий $\\chi^2$ применим не всегда, если, например, у нас мало данных:\n",
    "\n",
    "- При анализе четырехпольных таблиц ожидаемые значения в каждой из ячеек должны быть не менее 10. В том случае, если хотя бы в одной ячейке ожидаемое явление принимает значение от 5 до 9, критерий хи-квадрат должен рассчитываться с поправкой Йейтса. Если хотя бы в одной ячейке ожидаемое явление меньше 5, то для анализа должен использоваться точный критерий Фишера.\n",
    "- В случае анализа многопольных таблиц ожидаемое число наблюдений не должно принимать значения менее 5 более чем в 20% ячеек.\n",
    "\n",
    "В таких случаях применяют точный критерий Фишера\n"
   ]
  },
  {
   "cell_type": "markdown",
   "metadata": {},
   "source": [
    "`Пример`\n",
    "\n",
    "| -   | Поправился | Не поправился | Сумма |\n",
    "| --- | --- | --- | --- |\n",
    "| Лекарство номер 1 | 3 | 1 | 4 |\n",
    "| Лекарство номер 2 | 1 | 3 | 4 |\n",
    "| Сумма | 4 | 4 | 8 |\n",
    "\n",
    "\n",
    "Нулевая гипотеза: лекарства одинаково влияют на выздоровление.\n",
    "\n",
    "Критерий Фишера предлагает рассмотреть 8 пациентов и посмотреть на вероятности при выборе первого лекарства получить именно такое распределение (3 и 1) и тоже самое для второго или же больше (4 и 0). Вероятности рассчитываются вручную, поэтому его чаще применяют для малых выборок, где он работает лучше $\\chi^2$. Однако, ни что не мешает применять его и для более больших выборках.\n",
    "\n",
    "$H_0: p_1 = p_2 = p$\n",
    "\n",
    "Введем две случайные величины:\n",
    "\n",
    "$X$ - число положительных исходов при использовании лекарство 1\n",
    "\n",
    "$Y$ - число положительных исходов при использовании лекарство 2\n",
    "\n",
    "Таблица, в общем, виде:\n",
    "\n",
    "| -   | Поправился | Не поправился | Сумма |\n",
    "| --- | --- | --- | --- |\n",
    "| Лекарство номер 1 | a | b | a + b |\n",
    "| Лекарство номер 2 | c | d | c + d |\n",
    "| Сумма | a + c | b + d | n |\n",
    "\n",
    "Введенные нами случайные величины описываются биномиальным распределением:\n",
    "\n",
    "$X \\sim Binomial(a + b, p)$\n",
    "\n",
    "\n",
    "$Y \\sim Binomial(c + d, p)$\n",
    "\n",
    "$X + Y \\sim Binomial(n, p)$\n",
    "\n",
    "\n",
    "$$\n",
    "P (X=a) = C_{a+b}^a p^a (1-p)^b\n",
    "$$\n",
    "\n",
    "$$\n",
    "P (Y=c) = C_{c+d}^c p^c (1-p)^d\n",
    "$$\n",
    "\n",
    "$$\n",
    "P ( X+Y=a+c) = C_{n}^{a+c} p ^{a+c}(1-p)^{b+d}\n",
    "$$\n",
    "\n",
    "Теперь рассчитаем условную вероятность\n",
    "\n",
    "$$\n",
    "P (X = a | X+Y=a+c) = \\frac{P(X=a\\wedge X+Y=a+c)}{P(X+Y=a+c)} = \\frac{P(X=a)\\cdot P(Y=c)}{P(X+Y=a+c)}\n",
    "$$\n",
    "\n",
    "\n",
    "Подставим найденные величины:\n",
    "\n",
    "$$\n",
    "P (X = a | X+Y=a+c) = \\frac{ C_{a+b}^a p^a (1-p)^b C_{c+d}^c p^c (1-p)^d } {C_{n}^{a+c} p ^{a+c}(1-p)^{b+d}} = \\frac{ C_{a+b}^a C_{c+d}^c  } {C_{n}^{a+c} }\n",
    "$$\n",
    "\n",
    "Получили гипергеометрическое распределение"
   ]
  },
  {
   "cell_type": "code",
   "execution_count": 14,
   "metadata": {},
   "outputs": [],
   "source": [
    "def combination(n, k):\n",
    "    '''\n",
    "    C(n, k) = n!/k!/(n-k)!\n",
    "    '''\n",
    "    def factorial(n):\n",
    "        r = 1\n",
    "        for i in range(2, n+1):\n",
    "            r *= i\n",
    "        return r\n",
    "    return factorial(n)/factorial(k)/factorial(n-k)"
   ]
  },
  {
   "cell_type": "markdown",
   "metadata": {},
   "source": [
    "Посчитаем значение вероятности в нашем случае"
   ]
  },
  {
   "cell_type": "code",
   "execution_count": 17,
   "metadata": {},
   "outputs": [
    {
     "data": {
      "text/plain": [
       "0.22857142857142856"
      ]
     },
     "execution_count": 17,
     "metadata": {},
     "output_type": "execute_result"
    }
   ],
   "source": [
    "p_1 = combination(4, 3)*combination(4, 1)/combination(8, 4)\n",
    "p_1"
   ]
  },
  {
   "cell_type": "markdown",
   "metadata": {},
   "source": [
    "Более сильные различия"
   ]
  },
  {
   "cell_type": "code",
   "execution_count": 18,
   "metadata": {},
   "outputs": [
    {
     "data": {
      "text/plain": [
       "0.014285714285714285"
      ]
     },
     "execution_count": 18,
     "metadata": {},
     "output_type": "execute_result"
    }
   ],
   "source": [
    "p_2 = combination(4, 4)*combination(4, 0)/combination(8, 4)\n",
    "p_2"
   ]
  },
  {
   "cell_type": "markdown",
   "metadata": {},
   "source": [
    "Проверяем двунаправленную гипотезу, поэтому умножим на 2"
   ]
  },
  {
   "cell_type": "code",
   "execution_count": 19,
   "metadata": {},
   "outputs": [
    {
     "data": {
      "text/plain": [
       "0.4857142857142857"
      ]
     },
     "execution_count": 19,
     "metadata": {},
     "output_type": "execute_result"
    }
   ],
   "source": [
    "2*(p_1 + p_2)"
   ]
  },
  {
   "cell_type": "code",
   "execution_count": 20,
   "metadata": {},
   "outputs": [],
   "source": [
    "data = np.array([[3, 1],\n",
    "                [1, 3]])"
   ]
  },
  {
   "cell_type": "code",
   "execution_count": 21,
   "metadata": {},
   "outputs": [
    {
     "data": {
      "text/plain": [
       "(9.0, 0.48571428571428527)"
      ]
     },
     "execution_count": 21,
     "metadata": {},
     "output_type": "execute_result"
    }
   ],
   "source": [
    "stats.fisher_exact(data)"
   ]
  },
  {
   "cell_type": "markdown",
   "metadata": {},
   "source": [
    "`Задание`\n",
    "\n",
    "Для анализа приведенной ниже таблицы сопряженности:\n",
    "\n",
    "![\"Alt-text\"](./images/53.png)\n",
    "\n",
    "**Ответ**: Корректно использовать только точный тест Фишера.\n",
    "\n",
    "`Задание`\n",
    "\n",
    "Подытожим методы анализа номинативных данных, с которыми мы познакомились. Соотнесите описание задачи и метода, который наиболее осмысленно использовать для ее решения.\n",
    "\n",
    "**Ответ**:\n",
    "\n",
    "| Критерий | Область применения |\n",
    "| --- | --- |\n",
    "| Критерий хи-квадрат | Анализ таблицы сопряженности произвольного размера, где значения ожидаемых и наблюдаемых частот в каждой ячейке больше 10 | \n",
    "| Критерий хи-квадрат с поправкой Йетса | Анализ таблицы сопряженности два на два, где значения ожидаемых и наблюдаемых частот в каждой ячейке больше 5, но меньше 10 |\n",
    "| Точный критерий Фишера | Анализ таблицы сопряженности, в которой экстремально мало наблюдений, в некоторых ячейках число ожидаемых и наблюдаемых частот может быть меньше пяти |\n",
    "\n",
    "\n"
   ]
  }
 ],
 "metadata": {
  "interpreter": {
   "hash": "f9ad7d477e116717befdcaa3f90d21502d7280a0e8f8686c095b9aa3b1e1ccf0"
  },
  "kernelspec": {
   "display_name": "Python-3-8",
   "language": "python",
   "name": "python3"
  },
  "language_info": {
   "codemirror_mode": {
    "name": "ipython",
    "version": 3
   },
   "file_extension": ".py",
   "mimetype": "text/x-python",
   "name": "python",
   "nbconvert_exporter": "python",
   "pygments_lexer": "ipython3",
   "version": "3.8.5"
  }
 },
 "nbformat": 4,
 "nbformat_minor": 2
}
