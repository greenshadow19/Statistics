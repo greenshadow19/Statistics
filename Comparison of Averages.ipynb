{
 "cells": [
  {
   "cell_type": "code",
   "execution_count": 1,
   "metadata": {},
   "outputs": [],
   "source": [
    "import numpy as np\n",
    "import seaborn as sns\n",
    "import matplotlib.pyplot as plt\n",
    "import pandas as pd\n",
    "from scipy import stats"
   ]
  },
  {
   "cell_type": "code",
   "execution_count": 2,
   "metadata": {},
   "outputs": [],
   "source": [
    "%config Completer.use_jedi = False"
   ]
  },
  {
   "cell_type": "markdown",
   "metadata": {},
   "source": [
    "# Сравнение средних\n",
    "\n",
    "## [2.1 T-распределение](https://stepik.org/lesson/8081/step/1?unit=1360)\n",
    "\n",
    "### Нормальное распределение и ограниченность количества наблюдений\n",
    "\n",
    "До этого мы пользовались нормальным распределением не совсем правомерно, так как нам неизвестно стандартное отклонение $\\sigma$ его оценка по выборке приближает его неплохо, только в случае больших выборок. В остальных случаях лучше пользоваться распределением Стьюдента.\n",
    "\n",
    "### Распределение Стьюдента (Т-распределение)\n",
    "\n",
    "Однопараметрическое семейство распределений (зависит от числа степеней свободы), которое сходится к нормальному при большом количестве степеней свободы. Имеет более высокие хвосты, чем нормальное. \n",
    "\n",
    "В видео лекциях я сказал, что мы используем t - распределение в ситуации небольшого объема выборки. Необходимо более подробно пояснить, зачем это нужно.\n",
    "\n",
    "Вернемся к предельной центральной теореме, мы уже узнали, что если некий признак в генеральной совокупности распределен нормально (не обязательно) со средним μ и стандартным отклонением σ, и мы будем многократно извлекать выборки одинакового размера n, и для каждой выборки рассчитывать, как далеко выборочное среднее $\\bar{X}$ отклонилось от среднего в генеральной совокупности в единицах стандартной ошибки среднего:\n",
    "\n",
    "$$\n",
    "\\large z = \\frac{\\bar{X} - \\mu}{\\frac{\\sigma}{\\sqrt{n}}} \n",
    "$$\n",
    "то эта величина z будет иметь стандартное нормальное распределение со средним равным нулю и стандартным отклонением равным единице.\n",
    "\n",
    "Обратите внимание, что для расчета стандартной ошибки мы используем именно стандартное отклонение в генеральной совокупности - $\\sigma$. Ранее мы уже обсуждали, что на практике $\\sigma$ нам практически никогда не известна, и для расчета стандартной ошибки мы используем выборочное стандартное отклонение.\n",
    "\n",
    "Так вот, строго говоря в таком случае распределение отклонения выборочного среднего и среднего в генеральной совокупности, деленного на стандартную ошибку, теперь будет описываться именно при помощи t - распределения.\n",
    "$$\n",
    "\\large t = \\frac{\\bar{X} - \\mu}{\\frac{sd}{\\sqrt{n}}}\n",
    "$$\n",
    "\n",
    "Таким образом, в случае неизвестной $\\sigma$ мы всегда будем иметь дело с $t$ - распределением. На этом этапе вы должны с негодованием спросить меня, почему же мы применяли $z$ - критерий в первом модуле курса, для проверки гипотез, используя выборочное стандартное отклонение?\n",
    "\n",
    "Мы уже знаем, что при довольно большом объеме выборки (обычно в учебниках приводится правило, n > 30) t - распределение совсем близко подбирается к нормальному распределению:\n",
    "\n",
    "![alt text](.\\\\images\\\\35.png \"Title\")\n",
    "\n",
    "Поэтому иногда, для простоты расчетов говорится, что если n > 30, то мы будем использовать свойства нормального распределения для наших целей. Строго говоря, это конечно неправильный подход, который часто критикуют. В до компьютерную эпоху этому было некоторое объяснение, чтобы не рассчитывать для каждого n больше 30 соответствующее критическое значение t - распределения, статистики как бы округляли результат и использовали нормальное распределение для этих целей. Сегодня, конечно, с этим больше никаких проблем нет, и все статистические программы, разумеется, без труда рассчитают все необходимые показатели для t - распределения с любым числом степеней свободы. Действительно при выборках очень большого объема t - распределение практически не будет отличаться от нормального, однако, хоть и очень малые но различия все равно будут.\n",
    "\n",
    "Поэтому, правильнее будет сказать, что мы используем t - распределение не потому что у нас маленькие выборки, а потому что мы не знаем стандартное отклонение в генеральной совокупности. Поэтому в дальнейшем мы всегда будем использовать t - распределение для проверки гипотез, если нам неизвестно стандартное отклонение в генеральной совокупности, необходимое для расчета стандартной ошибки, даже если объем выборки больше 30."
   ]
  },
  {
   "cell_type": "markdown",
   "metadata": {},
   "source": [
    "### Понятие числа степеней свободы\n",
    "\n",
    "\n",
    "Проверка статистических гипотез по $t$-критерию\n",
    "\n",
    "`Задание`\n",
    "Если на выборке в 15 наблюдений при помощи одновыборочного t-теста проверяется нулевая гипотеза: $\\mu=10$ \n",
    "\n",
    "и рассчитанное t-значение равняется -2, то p-уровень значимости  (двусторонний) равен:"
   ]
  },
  {
   "cell_type": "code",
   "execution_count": 3,
   "metadata": {},
   "outputs": [
    {
     "data": {
      "text/plain": [
       "0.06528795288911197"
      ]
     },
     "execution_count": 3,
     "metadata": {},
     "output_type": "execute_result"
    }
   ],
   "source": [
    "n = 15 # объем выборки\n",
    "df = n - 1 # число степеней свободы\n",
    "t = -2\n",
    "p = 2*stats.t.cdf(-2, df) # p-value\n",
    "p"
   ]
  },
  {
   "cell_type": "markdown",
   "metadata": {},
   "source": [
    "## [2.2 Сравнение двух средних; t-критерий Стьюдента](https://stepik.org/lesson/9249/step/1?unit=1829)\n",
    "\n",
    "### Сравнение двух средних\n",
    "\n",
    "t-критерий удобно применять в тех случаях, когда нам нужно поставить статистическую гипотезу о равенстве двух средних\n",
    "\n",
    "### t-критерий Стьюдента\n",
    "\n",
    "Для применения данного критерия необходимо, чтобы исходные данные имели нормальное распределение. В случае применения двухвыборочного критерия для независимых выборок также необходимо соблюдение условия равенства дисперсий. Существуют, однако, альтернативы критерию Стьюдента для ситуации с неравными дисперсиями.\n",
    "\n",
    "Пусть у нас есть две выборки:\n",
    "1. $\\bar{X}_1$, $sd_1$, $n_1$\n",
    "1. $\\bar{X}_2$, $sd_2$, $n_2$\n",
    "\n",
    "Поставим гипотезу о равенстве средних:\n",
    "$$H_0: M_1 = M_2$$\n",
    "при альтернативе о неравенстве\n",
    "$$H_1: M_1 \\ne M_2$$\n",
    "\n",
    "Рассчитаем значение величины t:\n",
    "$$\n",
    "t = \\frac{\\bar{X}_1 - \\bar{X}_2}{\\sqrt{\\frac{sd_1^2}{n_1} +  \\frac{sd_2^2}{n_2}}}\n",
    "$$\n",
    "\n",
    "Тогда в случае принятие нулевой гипотезы, мы можем рассчитать значение p-value, исходя из t-распреления со следующим числом степеней свободы:\n",
    "$$\n",
    "df= n_1 + n_2 - 2\n",
    "$$\n",
    "\n",
    "`Пример`\n",
    "Процесс денатурации ДНК представляет разрушение водородных связей между двумя цепями этой молекулы и очень сильно зависит от температуры, с которой мы воздействуем на молекулу.\n",
    "\n",
    "При сравнение двух видов между собой в исследовании были получены следующие различия в средней температуре плавления ДНК"
   ]
  },
  {
   "cell_type": "code",
   "execution_count": 4,
   "metadata": {},
   "outputs": [],
   "source": [
    "sample_1 = np.array([84.7,   105.0,   98.9,   97.9,   108.7,   81.3,   99.4,   89.4,   93.0,   119.3,\n",
    "            99.2,   99.4,   97.1,   112.4,   99.8,   94.7,   114.0,   95.1,   115.5,   111.5])\n",
    "\n",
    "sample_2 = np.array([57.2,   68.6,   104.4,   95.1,   89.9,   70.8,   83.5,   60.1,   75.7,   102.0,\n",
    "             69.0,   79.6,   68.9,   98.6,   76.0,   74.8,   56.0,   55.6,   69.4,   59.5])"
   ]
  },
  {
   "cell_type": "code",
   "execution_count": 5,
   "metadata": {},
   "outputs": [
    {
     "data": {
      "text/plain": [
       "(10.246502612573408, 15.458102116774606)"
      ]
     },
     "execution_count": 5,
     "metadata": {},
     "output_type": "execute_result"
    }
   ],
   "source": [
    "# средние значения\n",
    "X_1 = sample_1.mean() \n",
    "X_2 = sample_2.mean()\n",
    "\n",
    "# объемы выборок\n",
    "n_1 = len(sample_1)\n",
    "n_2 = len(sample_2)\n",
    "\n",
    "# стандартные отклонения\n",
    "sd_1 = sample_1.std(ddof=1)\n",
    "sd_2 = sample_2.std(ddof=1)\n",
    "\n",
    "sd_1, sd_2"
   ]
  },
  {
   "cell_type": "code",
   "execution_count": 6,
   "metadata": {},
   "outputs": [
    {
     "data": {
      "text/plain": [
       "6.04781958789892"
      ]
     },
     "execution_count": 6,
     "metadata": {},
     "output_type": "execute_result"
    }
   ],
   "source": [
    "# t-критерий\n",
    "t = (X_1 - X_2)/np.sqrt(sd_1*sd_1/n_1 + sd_2*sd_2/n_2)\n",
    "t"
   ]
  },
  {
   "cell_type": "code",
   "execution_count": 7,
   "metadata": {},
   "outputs": [
    {
     "data": {
      "text/plain": [
       "38"
      ]
     },
     "execution_count": 7,
     "metadata": {},
     "output_type": "execute_result"
    }
   ],
   "source": [
    "# Число степеней свободы\n",
    "df = n_1 + n_2 - 2\n",
    "df"
   ]
  },
  {
   "cell_type": "markdown",
   "metadata": {},
   "source": [
    "Зададимся уровнем значимости в 0.05 и рассчитаем p-value"
   ]
  },
  {
   "cell_type": "code",
   "execution_count": 8,
   "metadata": {},
   "outputs": [
    {
     "data": {
      "text/plain": [
       "4.894702897415829e-07"
      ]
     },
     "execution_count": 8,
     "metadata": {},
     "output_type": "execute_result"
    }
   ],
   "source": [
    "2*stats.t.cdf(-t, df)"
   ]
  },
  {
   "cell_type": "markdown",
   "metadata": {},
   "source": [
    "### Построение графиков\n",
    "\n",
    "Для сравнение двух выборок удобно построить box-plot и график, показывающий доверительные интервалы для средних"
   ]
  },
  {
   "cell_type": "code",
   "execution_count": 9,
   "metadata": {},
   "outputs": [
    {
     "data": {
      "image/png": "[encoded data removed]",
      "text/plain": [
       "<Figure size 504x360 with 1 Axes>"
      ]
     },
     "metadata": {
      "needs_background": "light"
     },
     "output_type": "display_data"
    }
   ],
   "source": [
    "x = np.array(['1 kind']*len(sample_1) + ['2 kind']*len(sample_2))\n",
    "y = np.concatenate([sample_1, sample_2])\n",
    "data = pd.DataFrame({'kind': x, 'Melting temperature of DNA': y})\n",
    "\n",
    "fig = plt.figure(figsize=(7, 5))\n",
    "ax = fig.add_subplot(111)\n",
    "sns.set_style(\"darkgrid\")\n",
    "sns.set_palette(\"pastel\")\n",
    "sns.boxplot(x=\"kind\", y=\"Melting temperature of DNA\", data=data, width=0.3)\n",
    "sns.set(font_scale=1.1)\n",
    "sns.color_palette(\"hls\", 8)\n",
    "ax.set_xlabel('kind', fontsize=15)\n",
    "ax.set_ylabel('Temperature, F', fontsize=15)\n",
    "ax.set_title('Melting temperature of DNA', fontsize=15)\n",
    "plt.show()"
   ]
  },
  {
   "cell_type": "markdown",
   "metadata": {},
   "source": [
    "Построим доверительные интервалы для среднего в двух выборках\n",
    "\n",
    "Зададимся уровнем значимости в 0.95"
   ]
  },
  {
   "cell_type": "code",
   "execution_count": 10,
   "metadata": {},
   "outputs": [],
   "source": [
    "alpha = 0.95\n",
    "\n",
    "# Коэффициент для данного уровня значимости\n",
    "K = stats.t.ppf((1+alpha)/2, df=n_1-1)"
   ]
  },
  {
   "cell_type": "code",
   "execution_count": 11,
   "metadata": {},
   "outputs": [],
   "source": [
    "left_bound_1 = X_1 - K*sd_1/np.sqrt(n_1)\n",
    "right_bound_1 = X_1 + K*sd_1/np.sqrt(n_1)\n",
    "\n",
    "left_bound_2 = X_2 - K*sd_2/np.sqrt(n_2)\n",
    "right_bound_2 = X_2 + K*sd_2/np.sqrt(n_2)\n",
    "\n",
    "yerr_1 = K*sd_1/np.sqrt(n_1)\n",
    "yerr_2 = K*sd_2/np.sqrt(n_2)"
   ]
  },
  {
   "cell_type": "code",
   "execution_count": 12,
   "metadata": {},
   "outputs": [
    {
     "data": {
      "text/html": [
       "<div>\n",
       "<style scoped>\n",
       "    .dataframe tbody tr th:only-of-type {\n",
       "        vertical-align: middle;\n",
       "    }\n",
       "\n",
       "    .dataframe tbody tr th {\n",
       "        vertical-align: top;\n",
       "    }\n",
       "\n",
       "    .dataframe thead th {\n",
       "        text-align: right;\n",
       "    }\n",
       "</style>\n",
       "<table border=\"1\" class=\"dataframe\">\n",
       "  <thead>\n",
       "    <tr style=\"text-align: right;\">\n",
       "      <th></th>\n",
       "      <th>kind</th>\n",
       "      <th>Melting temperature of DNA</th>\n",
       "      <th>interval</th>\n",
       "    </tr>\n",
       "  </thead>\n",
       "  <tbody>\n",
       "    <tr>\n",
       "      <th>0</th>\n",
       "      <td>1 kind</td>\n",
       "      <td>100.815</td>\n",
       "      <td>4.795511</td>\n",
       "    </tr>\n",
       "    <tr>\n",
       "      <th>1</th>\n",
       "      <td>2 kind</td>\n",
       "      <td>75.735</td>\n",
       "      <td>7.234614</td>\n",
       "    </tr>\n",
       "  </tbody>\n",
       "</table>\n",
       "</div>"
      ],
      "text/plain": [
       "     kind  Melting temperature of DNA  interval\n",
       "0  1 kind                     100.815  4.795511\n",
       "1  2 kind                      75.735  7.234614"
      ]
     },
     "execution_count": 12,
     "metadata": {},
     "output_type": "execute_result"
    }
   ],
   "source": [
    "df = data.groupby('kind').mean()\n",
    "df['interval'] = [K*sd_1/np.sqrt(n_1), K*sd_2/np.sqrt(n_2)]\n",
    "df = df.reset_index()\n",
    "df"
   ]
  },
  {
   "cell_type": "code",
   "execution_count": 13,
   "metadata": {},
   "outputs": [
    {
     "data": {
      "image/png": "[encoded data removed]",
      "text/plain": [
       "<Figure size 288x432 with 1 Axes>"
      ]
     },
     "metadata": {},
     "output_type": "display_data"
    }
   ],
   "source": [
    "fig = plt.figure(figsize=(4, 6))\n",
    "ax = fig.add_subplot(111)\n",
    "\n",
    "plt.errorbar(x=df['kind'], y=df['Melting temperature of DNA'], yerr=df['interval'], color=\"black\", capsize=4, fmt ='o')\n",
    "plt.axis([-0.5, 1.5, 65, 110])\n",
    "ax.set_xlabel('kind', fontsize=15)\n",
    "ax.set_ylabel('Temperature, F', fontsize=15)\n",
    "ax.set_title('Melting temperature of DNA', fontsize=15)\n",
    "plt.show()"
   ]
  },
  {
   "cell_type": "markdown",
   "metadata": {},
   "source": [
    "## [2.3 Проверка распределения на нормальность, QQ-Plot](https://stepik.org/lesson/8082/step/1?unit=1361)\n",
    "\n",
    "### Сравнение распределения с нормальным\n",
    "Требования нормальности данных часто всплывает в тех или иных критериях, в связи с чем требуются методы для оценки нормальности распределения.\n",
    "\n",
    "### QQ-Plot\n",
    "Можно применить графический тест, где просто построить теоретическое нормальное распределение поверх нашего"
   ]
  },
  {
   "cell_type": "code",
   "execution_count": 14,
   "metadata": {},
   "outputs": [
    {
     "data": {
      "text/plain": [
       "[<matplotlib.lines.Line2D at 0x2213f71d880>]"
      ]
     },
     "execution_count": 14,
     "metadata": {},
     "output_type": "execute_result"
    },
    {
     "data": {
      "image/png": "[encoded data removed]",
      "text/plain": [
       "<Figure size 432x288 with 1 Axes>"
      ]
     },
     "metadata": {},
     "output_type": "display_data"
    }
   ],
   "source": [
    "sample = np.random.normal(5, 10, size=100)\n",
    "\n",
    "x_plot = np.linspace(np.min(sample), np.max(sample), num=100)\n",
    "y_plot = stats.norm.pdf(x_plot, loc=sample.mean(), scale=sample.std())\n",
    "\n",
    "sns.set_palette(\"pastel\")\n",
    "plt.hist(sample, density=True)\n",
    "plt.plot(x_plot, y_plot, lw=2)"
   ]
  },
  {
   "cell_type": "markdown",
   "metadata": {},
   "source": [
    "Другим способом является quantile-quantile plot или просто QQ-plot\n",
    "\n",
    "Координаты на котором по оси x это это квантили нашего теоретического распределения\n",
    "\n",
    "По оси y выборочного"
   ]
  },
  {
   "cell_type": "code",
   "execution_count": 15,
   "metadata": {},
   "outputs": [
    {
     "data": {
      "image/png": "[encoded data removed]",
      "text/plain": [
       "<Figure size 432x288 with 1 Axes>"
      ]
     },
     "metadata": {},
     "output_type": "display_data"
    }
   ],
   "source": [
    "stats.probplot(sample, dist=\"norm\", plot=plt)\n",
    "plt.show()"
   ]
  },
  {
   "cell_type": "markdown",
   "metadata": {},
   "source": [
    "Вернемся к задаче, которую рассматривали раннее"
   ]
  },
  {
   "cell_type": "code",
   "execution_count": 16,
   "metadata": {},
   "outputs": [
    {
     "data": {
      "image/png": "[encoded data removed]",
      "text/plain": [
       "<Figure size 1008x360 with 2 Axes>"
      ]
     },
     "metadata": {},
     "output_type": "display_data"
    }
   ],
   "source": [
    "fig = plt.figure(figsize=(14, 5))\n",
    "ax_1 = fig.add_subplot(121)\n",
    "ax_2 = fig.add_subplot(122)\n",
    "stats.probplot(sample_1, dist=\"norm\", plot=ax_1)\n",
    "ax_1.set_title('1 kind')\n",
    "stats.probplot(sample_2, dist=\"norm\", plot=ax_2)\n",
    "ax_2.set_title('2 kind')\n",
    "plt.subplots_adjust(wspace=0.2)\n",
    "plt.show()"
   ]
  },
  {
   "cell_type": "markdown",
   "metadata": {},
   "source": [
    "### Тест Шапиро-Вилка\n",
    "\n",
    "Тест позволяющий выяснить нормальность распределения"
   ]
  },
  {
   "cell_type": "code",
   "execution_count": 17,
   "metadata": {},
   "outputs": [
    {
     "data": {
      "text/plain": [
       "ShapiroResult(statistic=0.9255580902099609, pvalue=0.12679679691791534)"
      ]
     },
     "execution_count": 17,
     "metadata": {},
     "output_type": "execute_result"
    }
   ],
   "source": [
    "stats.shapiro(sample_1)\n",
    "\n",
    "stats.shapiro(sample_2)"
   ]
  },
  {
   "cell_type": "markdown",
   "metadata": {},
   "source": [
    "### Проблема выбросов\n",
    "Добавим всего по одному выбросу в наши выборки и посмотрим как это повлияет на статистически значимые различия, что мы получили до этого"
   ]
  },
  {
   "cell_type": "code",
   "execution_count": 18,
   "metadata": {},
   "outputs": [],
   "source": [
    "sample_1_ = np.concatenate([sample_1, [np.min(sample_1)-80]])\n",
    "sample_2_ = np.concatenate([sample_2, [np.max(sample_2)+80]])"
   ]
  },
  {
   "cell_type": "code",
   "execution_count": 19,
   "metadata": {},
   "outputs": [],
   "source": [
    "x = np.array(['1 kind']*len(sample_1_) + ['2 kind']*len(sample_2_))\n",
    "y = np.concatenate([sample_1_, sample_2_])\n",
    "data = pd.DataFrame({'kind': x, 'Melting temperature of DNA': y})"
   ]
  },
  {
   "cell_type": "code",
   "execution_count": 20,
   "metadata": {},
   "outputs": [
    {
     "data": {
      "image/png": "[encoded data removed]",
      "text/plain": [
       "<Figure size 504x360 with 1 Axes>"
      ]
     },
     "metadata": {},
     "output_type": "display_data"
    }
   ],
   "source": [
    "fig = plt.figure(figsize=(7, 5))\n",
    "ax = fig.add_subplot(111)\n",
    "sns.set_palette(\"pastel\")\n",
    "sns.boxplot(x=\"kind\", y=\"Melting temperature of DNA\", data=data, width=0.3)\n",
    "sns.set(font_scale=1.1)\n",
    "sns.color_palette(\"hls\", 8)\n",
    "ax.set_xlabel('kind', fontsize=15)\n",
    "ax.set_ylabel('Temperature, F', fontsize=15)\n",
    "ax.set_title('Melting temperature of DNA', fontsize=15)\n",
    "sns.set_style(\"darkgrid\")\n",
    "plt.show()"
   ]
  },
  {
   "cell_type": "code",
   "execution_count": 21,
   "metadata": {},
   "outputs": [
    {
     "data": {
      "text/plain": [
       "0.06681743217876819"
      ]
     },
     "execution_count": 21,
     "metadata": {},
     "output_type": "execute_result"
    }
   ],
   "source": [
    "# средние значения\n",
    "X_1 = sample_1_.mean() \n",
    "X_2 = sample_2_.mean()\n",
    "\n",
    "# объемы выборок\n",
    "n_1 = len(sample_1_)\n",
    "n_2 = len(sample_2_)\n",
    "\n",
    "# стандартные отклонения\n",
    "sd_1 = sample_1_.std(ddof=1)\n",
    "sd_2 = sample_2_.std(ddof=1)\n",
    "\n",
    "t = (X_1 - X_2)/np.sqrt(sd_1*sd_1/n_1 + sd_2*sd_2/n_2)\n",
    "\n",
    "# Число степеней свободы\n",
    "df = n_1 + n_2 - 2\n",
    "2*stats.t.cdf(-t, df)"
   ]
  },
  {
   "cell_type": "markdown",
   "metadata": {},
   "source": [
    "Видно, что всего один выброс привел к отсутствию статистически значимых результатов, что происходит в следствие того, что выборка перестает подчиняться нормальному распределению\n",
    "\n",
    "### U-критерий Манна-Уитни\n",
    "\n",
    "Непараметрический ранговый критерий, который использует информацию о вариационном ряде"
   ]
  },
  {
   "cell_type": "code",
   "execution_count": 22,
   "metadata": {},
   "outputs": [
    {
     "data": {
      "text/plain": [
       "MannwhitneyuResult(statistic=356.5, pvalue=0.00032615199233629853)"
      ]
     },
     "execution_count": 22,
     "metadata": {},
     "output_type": "execute_result"
    }
   ],
   "source": [
    "stats.mannwhitneyu(sample_1_, sample_2_, alternative = 'greater')"
   ]
  },
  {
   "cell_type": "markdown",
   "metadata": {},
   "source": [
    "Как видно, выбросы не помешали\n",
    "\n",
    "Но и чувствительность будет меньше, не почувствуем различий когда они будут, то есть ошибка второго рода"
   ]
  },
  {
   "cell_type": "markdown",
   "metadata": {},
   "source": [
    "## [2.4 Однофакторный дисперсионный анализ](https://stepik.org/lesson/8083/step/1?unit=1362)\n",
    "\n",
    "Очень часто в экспериментах и исследованиях возникает необходимость сравнить несколько групп между собой. В таком случае мы можем применять однофакторный дисперсионный анализ. Та переменная, которая будет разделять наших испытуемых или наблюдения на группы (номинативная переменная с нескольким градациями) называется независимой переменной. А та количественная переменная, по степени выраженности которой мы сравниваем группы, называется зависимая переменная. "
   ]
  },
  {
   "cell_type": "markdown",
   "metadata": {},
   "source": [
    "### Расчет на практическом примере\n",
    "Хотим сравнить три группы между собой.\n",
    "$$\n",
    "H_0: M1=M2=M3\n",
    "$$\n",
    "$$\n",
    "H_1: !(M1=M2=M3)\n",
    "$$"
   ]
  },
  {
   "cell_type": "code",
   "execution_count": 23,
   "metadata": {},
   "outputs": [],
   "source": [
    "sample_1 = np.array([3, 1, 2])\n",
    "sample_2 = np.array([5, 3, 4])\n",
    "sample_3 = np.array([7, 6, 5])\n",
    "\n",
    "sample = np.concatenate([sample_1, sample_2, sample_3])"
   ]
  },
  {
   "cell_type": "code",
   "execution_count": 24,
   "metadata": {},
   "outputs": [
    {
     "data": {
      "text/plain": [
       "4.0"
      ]
     },
     "execution_count": 24,
     "metadata": {},
     "output_type": "execute_result"
    }
   ],
   "source": [
    "# среднее значение всех групп\n",
    "sample_mean = sample.mean()\n",
    "sample_mean"
   ]
  },
  {
   "cell_type": "markdown",
   "metadata": {},
   "source": [
    "Определим SST (sum squared terms или общая сумма квадратов) --- сумма отклонений квадратов от среднего для всех элементов из всех групп, которая характеризует общую изменчивость наших данных"
   ]
  },
  {
   "cell_type": "code",
   "execution_count": 25,
   "metadata": {},
   "outputs": [
    {
     "data": {
      "text/plain": [
       "30.0"
      ]
     },
     "execution_count": 25,
     "metadata": {},
     "output_type": "execute_result"
    }
   ],
   "source": [
    "SST = sum((sample-sample_mean)**2)\n",
    "SST"
   ]
  },
  {
   "cell_type": "code",
   "execution_count": 26,
   "metadata": {},
   "outputs": [],
   "source": [
    "# число степеней свобод\n",
    "df = len(sample) - 1"
   ]
  },
  {
   "cell_type": "markdown",
   "metadata": {},
   "source": [
    "SST определяется двумя факторами: SSB (межгрупповая Sum Squared Between groups) и SSW (внутригрупповая Sum Squared Within groups)\n",
    "\n",
    "Рассчитаем SSW "
   ]
  },
  {
   "cell_type": "code",
   "execution_count": 27,
   "metadata": {},
   "outputs": [
    {
     "data": {
      "text/plain": [
       "6.0"
      ]
     },
     "execution_count": 27,
     "metadata": {},
     "output_type": "execute_result"
    }
   ],
   "source": [
    "# список с изменчивостью внутри группы\n",
    "SSW = [sum((s - s.mean())**2) for s in [sample_1, sample_2, sample_3]]\n",
    "SSW = sum(SSW)\n",
    "SSW"
   ]
  },
  {
   "cell_type": "markdown",
   "metadata": {},
   "source": [
    "Число степеней свободы для этого показателя дается как:\n",
    "$$\n",
    "df = N - m\n",
    "$$\n",
    "где N - общее число наблюдений, а m число групп"
   ]
  },
  {
   "cell_type": "code",
   "execution_count": 28,
   "metadata": {},
   "outputs": [
    {
     "data": {
      "text/plain": [
       "6"
      ]
     },
     "execution_count": 28,
     "metadata": {},
     "output_type": "execute_result"
    }
   ],
   "source": [
    "df_W = len(sample) - len([sample_1, sample_2, sample_3])\n",
    "df_W"
   ]
  },
  {
   "cell_type": "markdown",
   "metadata": {},
   "source": [
    "Теперь рассчитаем SSB"
   ]
  },
  {
   "cell_type": "code",
   "execution_count": 29,
   "metadata": {},
   "outputs": [
    {
     "data": {
      "text/plain": [
       "24.0"
      ]
     },
     "execution_count": 29,
     "metadata": {},
     "output_type": "execute_result"
    }
   ],
   "source": [
    "# список с изменчивостью между групп\n",
    "SSB = [len(s)*(s.mean() - sample_mean)**2 for s in [sample_1, sample_2, sample_3]]\n",
    "SSB = sum(SSB)\n",
    "SSB"
   ]
  },
  {
   "cell_type": "markdown",
   "metadata": {},
   "source": [
    "Число степеней свободы в данном случае это:\n",
    "$$\n",
    "df = m - 1\n",
    "$$"
   ]
  },
  {
   "cell_type": "code",
   "execution_count": 30,
   "metadata": {},
   "outputs": [
    {
     "data": {
      "text/plain": [
       "2"
      ]
     },
     "execution_count": 30,
     "metadata": {},
     "output_type": "execute_result"
    }
   ],
   "source": [
    "df_B = len([sample_1, sample_2, sample_3]) - 1\n",
    "df_B"
   ]
  },
  {
   "cell_type": "markdown",
   "metadata": {},
   "source": [
    "Заметим, что в нашем случае общая изменчивость получается за счет изменчивость межгрупповой, что говорит о том, что данные скорее различаются между собой"
   ]
  },
  {
   "cell_type": "markdown",
   "metadata": {},
   "source": [
    "### F-значение\n",
    "Введем понятие F-значения как:\n",
    "$$\n",
    "F = \\frac{\\frac{SSB}{m-1}}{\\frac{SSW}{N-m}} \n",
    "$$"
   ]
  },
  {
   "cell_type": "code",
   "execution_count": 31,
   "metadata": {},
   "outputs": [
    {
     "data": {
      "text/plain": [
       "12.0"
      ]
     },
     "execution_count": 31,
     "metadata": {},
     "output_type": "execute_result"
    }
   ],
   "source": [
    "F = SSB/df_B/(SSW/df_W)\n",
    "F"
   ]
  },
  {
   "cell_type": "markdown",
   "metadata": {},
   "source": [
    "При принятии нулевой гипотезы введеная нами величина F имела бы распределение Фишера, которое зависит от двух параметров:\n",
    "число свобод для междугруповой изменчивости и внутригрупповой\n",
    "\n",
    "Рассчитаем p-value, то есть вероятность получить такие же или более сильные различия при принятии нулевой гипотезы"
   ]
  },
  {
   "cell_type": "code",
   "execution_count": 32,
   "metadata": {},
   "outputs": [
    {
     "data": {
      "text/plain": [
       "(2, 6)"
      ]
     },
     "execution_count": 32,
     "metadata": {},
     "output_type": "execute_result"
    }
   ],
   "source": [
    "df_B, df_W"
   ]
  },
  {
   "cell_type": "code",
   "execution_count": 33,
   "metadata": {},
   "outputs": [
    {
     "data": {
      "text/plain": [
       "0.008000000000000007"
      ]
     },
     "execution_count": 33,
     "metadata": {},
     "output_type": "execute_result"
    }
   ],
   "source": [
    "1 - stats.f.cdf(F, df_B, df_W)"
   ]
  },
  {
   "cell_type": "markdown",
   "metadata": {},
   "source": [
    "Готовое решение"
   ]
  },
  {
   "cell_type": "code",
   "execution_count": 34,
   "metadata": {},
   "outputs": [
    {
     "data": {
      "text/plain": [
       "F_onewayResult(statistic=12.0, pvalue=0.008000000000000002)"
      ]
     },
     "execution_count": 34,
     "metadata": {},
     "output_type": "execute_result"
    }
   ],
   "source": [
    "stats.f_oneway(sample_1, sample_2, sample_3)"
   ]
  },
  {
   "cell_type": "markdown",
   "metadata": {},
   "source": [
    "`Задача`\n",
    "\n",
    "Допустим, что при сравнении четырех групп между собой (по 5 наблюдений в каждой группе) вы получили F = 3.5, тогда:"
   ]
  },
  {
   "cell_type": "code",
   "execution_count": 35,
   "metadata": {},
   "outputs": [
    {
     "data": {
      "text/plain": [
       "0.040052541494826066"
      ]
     },
     "execution_count": 35,
     "metadata": {},
     "output_type": "execute_result"
    }
   ],
   "source": [
    "1 - stats.f.cdf(3.5, 4-1, 20-4)"
   ]
  },
  {
   "cell_type": "markdown",
   "metadata": {},
   "source": [
    "**Ответ**: Отклоняем нулевую гипотезу о равенстве средних, т.к. $p < 0,05$"
   ]
  },
  {
   "cell_type": "markdown",
   "metadata": {},
   "source": [
    "Немного об обозначениях в дисперсионном анализе.\n",
    "\n",
    "Когда мы делим значение межгрупповой суммы квадратов на соответствующее число степеней свободы (число групп минус один), мы тем самым усредняем полученный показатель. Усредненное значение межгрупповой суммы квадратов называется межгрупповым средним квадратом  \n",
    "$$\n",
    " MS_{bg}=\\frac{SSB}{df_{bg}}\\quad df_{bg}=m-1\\quad\n",
    " $$\n",
    "\n",
    "Отношение внутригрупповой суммы квадратов к соответствующему числу степеней свободы (число всех наблюдений минус число групп) — это внутригрупповой средний квадрат \n",
    "$$\n",
    "MS_{wg}=\\frac{SSW}{df_{wg}}\\quad df_{wg} = N-m\n",
    "$$\n",
    "\n",
    "Поэтому формула F-значения (F-отношение) часто записывается:\n",
    "$$\n",
    "F=\\frac{MS_{bg}}{MS_{wg}}\n",
    "$$\n",
    "\n",
    "`Задача`\n",
    "\n",
    "Отметьте верное утверждение (утверждения):\n",
    "\n",
    "\n",
    "**Ответ** Чем больше дисперсия внутри групп, тем больше значение внутригруппового квадрата (при неизменном количестве наблюдений)\n",
    "\n",
    "Общая сумма квадратов, деленная на число всех наблюдений минус один — это и есть дисперсия, рассчитанная для всех наших наблюдений без учета деления на группы"
   ]
  },
  {
   "cell_type": "markdown",
   "metadata": {},
   "source": [
    "### Применение и интерпретация\n",
    "\n",
    "`Пример`\n",
    "Генотерапия позволяет корректировать работу дефектного гена, ответственного за развитие заболевания. В эксперименте сравнивалась эффективность четырех различных типов терапии. Результаты исследования представлены в таблице"
   ]
  },
  {
   "cell_type": "code",
   "execution_count": 36,
   "metadata": {},
   "outputs": [],
   "source": [
    "data = pd.read_csv('./datasets/genetherapy.csv')"
   ]
  },
  {
   "cell_type": "code",
   "execution_count": 37,
   "metadata": {},
   "outputs": [
    {
     "data": {
      "text/html": [
       "<div>\n",
       "<style scoped>\n",
       "    .dataframe tbody tr th:only-of-type {\n",
       "        vertical-align: middle;\n",
       "    }\n",
       "\n",
       "    .dataframe tbody tr th {\n",
       "        vertical-align: top;\n",
       "    }\n",
       "\n",
       "    .dataframe thead th {\n",
       "        text-align: right;\n",
       "    }\n",
       "</style>\n",
       "<table border=\"1\" class=\"dataframe\">\n",
       "  <thead>\n",
       "    <tr style=\"text-align: right;\">\n",
       "      <th></th>\n",
       "      <th>Therapy</th>\n",
       "      <th>N</th>\n",
       "      <th>Mx</th>\n",
       "      <th>SD</th>\n",
       "    </tr>\n",
       "  </thead>\n",
       "  <tbody>\n",
       "    <tr>\n",
       "      <th>0</th>\n",
       "      <td>A</td>\n",
       "      <td>15</td>\n",
       "      <td>99.733333</td>\n",
       "      <td>4.165619</td>\n",
       "    </tr>\n",
       "    <tr>\n",
       "      <th>1</th>\n",
       "      <td>B</td>\n",
       "      <td>15</td>\n",
       "      <td>98.800000</td>\n",
       "      <td>5.894307</td>\n",
       "    </tr>\n",
       "    <tr>\n",
       "      <th>2</th>\n",
       "      <td>C</td>\n",
       "      <td>15</td>\n",
       "      <td>94.400000</td>\n",
       "      <td>5.193402</td>\n",
       "    </tr>\n",
       "    <tr>\n",
       "      <th>3</th>\n",
       "      <td>D</td>\n",
       "      <td>15</td>\n",
       "      <td>92.333333</td>\n",
       "      <td>3.735289</td>\n",
       "    </tr>\n",
       "  </tbody>\n",
       "</table>\n",
       "</div>"
      ],
      "text/plain": [
       "  Therapy   N         Mx        SD\n",
       "0       A  15  99.733333  4.165619\n",
       "1       B  15  98.800000  5.894307\n",
       "2       C  15  94.400000  5.193402\n",
       "3       D  15  92.333333  3.735289"
      ]
     },
     "execution_count": 37,
     "metadata": {},
     "output_type": "execute_result"
    }
   ],
   "source": [
    "df = pd.pivot_table(data, values='expr', index='Therapy', aggfunc=[len, np.mean, np.std])\n",
    "df.columns = df.columns.get_level_values(0)\n",
    "df = df.rename(columns={'len': 'N', 'mean': 'Mx', 'std': 'SD'})\n",
    "df = df.reset_index()\n",
    "df"
   ]
  },
  {
   "cell_type": "markdown",
   "metadata": {},
   "source": [
    "Получим выборки из данных"
   ]
  },
  {
   "cell_type": "code",
   "execution_count": 38,
   "metadata": {},
   "outputs": [],
   "source": [
    "groups = []\n",
    "for i in data.Therapy.unique():\n",
    "    groups.append(np.asarray(data[data.Therapy==i].expr))"
   ]
  },
  {
   "cell_type": "code",
   "execution_count": 39,
   "metadata": {},
   "outputs": [
    {
     "data": {
      "text/plain": [
       "F_onewayResult(statistic=8.03730248114399, pvalue=0.00015249722895229536)"
      ]
     },
     "execution_count": 39,
     "metadata": {},
     "output_type": "execute_result"
    }
   ],
   "source": [
    "stats.f_oneway(*groups)"
   ]
  },
  {
   "cell_type": "code",
   "execution_count": 40,
   "metadata": {},
   "outputs": [
    {
     "data": {
      "image/png": "[encoded data removed]",
      "text/plain": [
       "<Figure size 1008x360 with 2 Axes>"
      ]
     },
     "metadata": {},
     "output_type": "display_data"
    }
   ],
   "source": [
    "fig = plt.figure(figsize=(14, 5))\n",
    "ax1 = fig.add_subplot(121)\n",
    "ax2 = fig.add_subplot(122)\n",
    "sns.set_palette(\"tab10\")\n",
    "sns.boxplot(x='Therapy', y='expr', data=data, ax=ax1)\n",
    "sns.pointplot(x='Therapy', y='expr', data=data, join=False, ax=ax2)\n",
    "ax1.set_title('Boxplot', fontsize=15)\n",
    "ax1.set_ylabel('Уровень экспрессии')\n",
    "ax2.set_ylabel('Уровень экспрессии')\n",
    "ax2.set_title('Confidence intervals', fontsize=15)\n",
    "plt.show()"
   ]
  },
  {
   "cell_type": "markdown",
   "metadata": {},
   "source": [
    "## [2.5 Множественные сравнения в ANOVA](https://stepik.org/lesson/8085/step/1?unit=1364)\n",
    "\n",
    "### Проблема множественного сравнения выборок\n",
    "Почему нельзя просто попарно сравнивать выборки между собой\n",
    "\n",
    "Проведем следующий эксперимент, будет 1000 генерировать две группы по 30 наблюдений в каждой из одной генеральной совокупности и проводить для них однофакторный дисперсионный анализ"
   ]
  },
  {
   "cell_type": "code",
   "execution_count": 41,
   "metadata": {},
   "outputs": [],
   "source": [
    "result = np.zeros(1000, dtype=int)\n",
    "for i in range(1000):\n",
    "    sample_1 = np.random.normal(size=30)\n",
    "    sample_2 = np.random.normal(size=30)\n",
    "    if stats.f_oneway(sample_1, sample_2).pvalue < 0.05:\n",
    "        result[i] = 1"
   ]
  },
  {
   "cell_type": "code",
   "execution_count": 42,
   "metadata": {},
   "outputs": [
    {
     "data": {
      "image/png": "[encoded data removed]",
      "text/plain": [
       "<Figure size 432x288 with 1 Axes>"
      ]
     },
     "metadata": {},
     "output_type": "display_data"
    }
   ],
   "source": [
    "fig = plt.figure()\n",
    "ax = fig.add_subplot(111)\n",
    "sns.barplot(x=['Нет', 'Да'], y=np.bincount(result), ax=ax)\n",
    "ax.set_xlabel('Значимые различия')\n",
    "ax.set_ylabel('Количество')\n",
    "ax.set_title(f'{np.bincount(result)[1]/1000}')\n",
    "plt.show()"
   ]
  },
  {
   "cell_type": "markdown",
   "metadata": {},
   "source": [
    "Увеличим теперь число выборок до 8"
   ]
  },
  {
   "cell_type": "code",
   "execution_count": 43,
   "metadata": {},
   "outputs": [
    {
     "data": {
      "text/plain": [
       "array([ 15, 985], dtype=int64)"
      ]
     },
     "execution_count": 43,
     "metadata": {},
     "output_type": "execute_result"
    }
   ],
   "source": [
    "import itertools\n",
    "\n",
    "result = np.zeros(1000, dtype=int)\n",
    "for i in range(1000):\n",
    "    groups = []\n",
    "    for j in range(30):\n",
    "        a = stats.norm.rvs(size=30)\n",
    "        groups.append(a)\n",
    "    for pair in itertools.combinations(groups, 2):\n",
    "        if stats.f_oneway(*pair).pvalue < 0.05:\n",
    "            result[i] = 1\n",
    "            break\n",
    "np.bincount(result)"
   ]
  },
  {
   "cell_type": "code",
   "execution_count": 44,
   "metadata": {},
   "outputs": [
    {
     "data": {
      "image/png": "[encoded data removed]",
      "text/plain": [
       "<Figure size 432x288 with 1 Axes>"
      ]
     },
     "metadata": {},
     "output_type": "display_data"
    }
   ],
   "source": [
    "fig = plt.figure()\n",
    "ax = fig.add_subplot(111)\n",
    "sns.barplot(x=['Нет', 'Да'], y=np.bincount(result), ax=ax)\n",
    "ax.set_xlabel('Значимые различия')\n",
    "ax.set_ylabel('Количество')\n",
    "ax.set_title(f'{np.bincount(result)[1]/1000}')\n",
    "plt.show()"
   ]
  },
  {
   "cell_type": "markdown",
   "metadata": {},
   "source": [
    "Приходим к проблеме, в которой при множественных попарных сравнениях мы часто находим различия, где их нет. Решить это можно, например, при помощи поправки Бонферрони"
   ]
  },
  {
   "cell_type": "markdown",
   "metadata": {},
   "source": [
    "### Поправка Бонферрони\n",
    "Идея очень простая, скорректировать уровень значимости в соответствии с количеством попарных сравнений."
   ]
  },
  {
   "cell_type": "code",
   "execution_count": 45,
   "metadata": {},
   "outputs": [
    {
     "data": {
      "text/plain": [
       "array([960,  40], dtype=int64)"
      ]
     },
     "execution_count": 45,
     "metadata": {},
     "output_type": "execute_result"
    }
   ],
   "source": [
    "result = np.zeros(1000, dtype=int)\n",
    "for i in range(1000):\n",
    "    groups = []\n",
    "    for j in range(8):\n",
    "        a = stats.norm.rvs(size=30)\n",
    "        groups.append(a)\n",
    "    for pair in itertools.combinations(groups, 2):\n",
    "        if stats.f_oneway(*pair).pvalue < 0.05/(8*7/2):\n",
    "            result[i] = 1\n",
    "            break\n",
    "np.bincount(result)"
   ]
  },
  {
   "cell_type": "code",
   "execution_count": 46,
   "metadata": {},
   "outputs": [
    {
     "data": {
      "image/png": "[encoded data removed]",
      "text/plain": [
       "<Figure size 432x288 with 1 Axes>"
      ]
     },
     "metadata": {},
     "output_type": "display_data"
    }
   ],
   "source": [
    "fig = plt.figure()\n",
    "ax = fig.add_subplot(111)\n",
    "sns.barplot(x=['Нет', 'Да'], y=np.bincount(result), ax=ax)\n",
    "ax.set_xlabel('Значимые различия')\n",
    "ax.set_ylabel('Количество')\n",
    "ax.set_title(f'{np.bincount(result)[1]/1000}')\n",
    "plt.show()"
   ]
  },
  {
   "cell_type": "markdown",
   "metadata": {},
   "source": [
    "Как видим, при 8 группах это отлично работает\n",
    "\n",
    "Теперь рассмотрим 20 групп"
   ]
  },
  {
   "cell_type": "code",
   "execution_count": 47,
   "metadata": {},
   "outputs": [
    {
     "data": {
      "text/plain": [
       "array([970,  30], dtype=int64)"
      ]
     },
     "execution_count": 47,
     "metadata": {},
     "output_type": "execute_result"
    }
   ],
   "source": [
    "result = np.zeros(1000, dtype=int)\n",
    "for i in range(1000):\n",
    "    groups = []\n",
    "    for j in range(20):\n",
    "        a = stats.norm.rvs(size=30)\n",
    "        groups.append(a)\n",
    "    for pair in itertools.combinations(groups, 2):\n",
    "        if stats.f_oneway(*pair).pvalue < 0.05/(20*19/2):\n",
    "            result[i] = 1\n",
    "            break\n",
    "np.bincount(result)"
   ]
  },
  {
   "cell_type": "code",
   "execution_count": 48,
   "metadata": {},
   "outputs": [
    {
     "data": {
      "image/png": "[encoded data removed]",
      "text/plain": [
       "<Figure size 432x288 with 1 Axes>"
      ]
     },
     "metadata": {},
     "output_type": "display_data"
    }
   ],
   "source": [
    "fig = plt.figure()\n",
    "ax = fig.add_subplot(111)\n",
    "sns.barplot(x=['Нет', 'Да'], y=np.bincount(result), ax=ax)\n",
    "ax.set_xlabel('Значимые различия')\n",
    "ax.set_ylabel('Количество')\n",
    "ax.set_title(f'{np.bincount(result)[1]/1000}')\n",
    "plt.show()"
   ]
  },
  {
   "cell_type": "markdown",
   "metadata": {},
   "source": [
    "Тоже отлично работает\n",
    "\n",
    "Поправка Бонферонни делает крайне затруднительным нахождение значимых различий, вследствие чего данная поправка подвергается критике"
   ]
  },
  {
   "cell_type": "markdown",
   "metadata": {},
   "source": [
    "### Критерий Тьюки\n",
    "Вычисление критерия Тьюки:\n",
    "$$\n",
    "\\displaystyle q = \\frac{\\overline x_B - \\overline x_A}{SE}\n",
    "$$, при этом\n",
    "$$\n",
    "\\displaystyle SE = \\sqrt \\frac{MS_w}{n}\n",
    "$$\n",
    " где\n",
    " $\\displaystyle MS_w$  - внутригрупповая дисперсия.\n",
    "\n",
    "Приведённая формула верна для случаев, когда все сравниваемые группы содержат одинаковое число наблюдений n. Если же сравниваемые группы неодинаковы по размеру, то\n",
    "$$\n",
    "SE = \\displaystyle\\sqrt{\\frac{MS_w}{2}\\left (\\frac{1}{n_A}+\\frac{1}{n_B}\\right )}\n",
    "$$\n",
    "\n",
    "Потом значимость оценивается по распределению Стьюдента\n",
    "\n",
    "Для каждой пары групп независимо. Т.е. для групп i и j:\n",
    "$$\n",
    "{SE}_{ij} = \\displaystyle\\sqrt{\\frac{MSW_{ij}}{2}\\left (\\frac{1}{n_i}+\\frac{1}{n_j}\\right )}\n",
    "$$\n",
    " \n",
    "Для расчёта доверительного интервала используется не T-распределение, а Studentized range distribution со степенями свободы 2 и $n_i + n_j - 2n $\n",
    "Например, $95\\%$ доверительный интервал:\n",
    "$$\n",
    "\\overline x_i - \\overline x_j ﻿\\pm ﻿q_{0.05;2;n_i + n_j - 2}{SE}_{ij} \n",
    "$$\n",
    " "
   ]
  },
  {
   "cell_type": "code",
   "execution_count": 49,
   "metadata": {},
   "outputs": [],
   "source": [
    "from statsmodels.stats.multicomp import (pairwise_tukeyhsd, MultiComparison)"
   ]
  },
  {
   "cell_type": "code",
   "execution_count": 50,
   "metadata": {},
   "outputs": [
    {
     "data": {
      "text/html": [
       "<div>\n",
       "<style scoped>\n",
       "    .dataframe tbody tr th:only-of-type {\n",
       "        vertical-align: middle;\n",
       "    }\n",
       "\n",
       "    .dataframe tbody tr th {\n",
       "        vertical-align: top;\n",
       "    }\n",
       "\n",
       "    .dataframe thead th {\n",
       "        text-align: right;\n",
       "    }\n",
       "</style>\n",
       "<table border=\"1\" class=\"dataframe\">\n",
       "  <thead>\n",
       "    <tr style=\"text-align: right;\">\n",
       "      <th></th>\n",
       "      <th>expr</th>\n",
       "      <th>Therapy</th>\n",
       "    </tr>\n",
       "  </thead>\n",
       "  <tbody>\n",
       "    <tr>\n",
       "      <th>0</th>\n",
       "      <td>100</td>\n",
       "      <td>A</td>\n",
       "    </tr>\n",
       "    <tr>\n",
       "      <th>1</th>\n",
       "      <td>96</td>\n",
       "      <td>A</td>\n",
       "    </tr>\n",
       "    <tr>\n",
       "      <th>2</th>\n",
       "      <td>101</td>\n",
       "      <td>A</td>\n",
       "    </tr>\n",
       "    <tr>\n",
       "      <th>3</th>\n",
       "      <td>95</td>\n",
       "      <td>A</td>\n",
       "    </tr>\n",
       "    <tr>\n",
       "      <th>4</th>\n",
       "      <td>103</td>\n",
       "      <td>A</td>\n",
       "    </tr>\n",
       "  </tbody>\n",
       "</table>\n",
       "</div>"
      ],
      "text/plain": [
       "   expr Therapy\n",
       "0   100       A\n",
       "1    96       A\n",
       "2   101       A\n",
       "3    95       A\n",
       "4   103       A"
      ]
     },
     "execution_count": 50,
     "metadata": {},
     "output_type": "execute_result"
    }
   ],
   "source": [
    "data.head()"
   ]
  },
  {
   "cell_type": "code",
   "execution_count": 51,
   "metadata": {},
   "outputs": [
    {
     "data": {
      "text/html": [
       "<table class=\"simpletable\">\n",
       "<caption>Multiple Comparison of Means - Tukey HSD, FWER=0.05</caption>\n",
       "<tr>\n",
       "  <th>group1</th> <th>group2</th> <th>meandiff</th>  <th>p-adj</th>   <th>lower</th>   <th>upper</th>  <th>reject</th>\n",
       "</tr>\n",
       "<tr>\n",
       "     <td>A</td>      <td>B</td>    <td>-0.9333</td>   <td>0.9</td>   <td>-5.5961</td> <td>3.7294</td>   <td>False</td>\n",
       "</tr>\n",
       "<tr>\n",
       "     <td>A</td>      <td>C</td>    <td>-5.3333</td> <td>0.0189</td>  <td>-9.9961</td> <td>-0.6706</td>  <td>True</td> \n",
       "</tr>\n",
       "<tr>\n",
       "     <td>A</td>      <td>D</td>     <td>-7.4</td>    <td>0.001</td> <td>-12.0628</td> <td>-2.7372</td>  <td>True</td> \n",
       "</tr>\n",
       "<tr>\n",
       "     <td>B</td>      <td>C</td>     <td>-4.4</td>   <td>0.0712</td>  <td>-9.0628</td> <td>0.2628</td>   <td>False</td>\n",
       "</tr>\n",
       "<tr>\n",
       "     <td>B</td>      <td>D</td>    <td>-6.4667</td> <td>0.0029</td> <td>-11.1294</td> <td>-1.8039</td>  <td>True</td> \n",
       "</tr>\n",
       "<tr>\n",
       "     <td>C</td>      <td>D</td>    <td>-2.0667</td> <td>0.6296</td>  <td>-6.7294</td> <td>2.5961</td>   <td>False</td>\n",
       "</tr>\n",
       "</table>"
      ],
      "text/plain": [
       "<class 'statsmodels.iolib.table.SimpleTable'>"
      ]
     },
     "execution_count": 51,
     "metadata": {},
     "output_type": "execute_result"
    }
   ],
   "source": [
    "multi_comp = MultiComparison(data.expr, data.Therapy)\n",
    "\n",
    "multi_comp.tukeyhsd().summary()"
   ]
  },
  {
   "cell_type": "markdown",
   "metadata": {},
   "source": [
    "### Интерпретация результатов\n",
    "\n",
    "`Задание`\n",
    "Чтобы выяснить, как лучше преподавать статистику, преподаватели разбили студентов на пять групп. В каждой группе использовалась различная методика преподавания. В конце года каждая группа написала итоговую работу. Таким образом, сравнивалось пять групп по среднему баллу контрольной работы. Был применен однофакторный дисперсионный анализ, по результатам которого удалось отклонить нулевую гипотезу о равенстве средних. \n",
    "\n",
    "Сколько сравнений необходимо произвести, чтобы попарно сравнить все группы между собой?"
   ]
  },
  {
   "cell_type": "code",
   "execution_count": 52,
   "metadata": {},
   "outputs": [
    {
     "data": {
      "text/plain": [
       "10.0"
      ]
     },
     "execution_count": 52,
     "metadata": {},
     "output_type": "execute_result"
    }
   ],
   "source": [
    "5*4/2"
   ]
  },
  {
   "cell_type": "markdown",
   "metadata": {},
   "source": [
    "**Ответ**: 10"
   ]
  },
  {
   "cell_type": "markdown",
   "metadata": {},
   "source": [
    "`Задание`\n",
    "Необходимо ли применять поправку на множественное сравнение при сравнении этих групп (из предыдущего вопроса) между собой?\n",
    "\n",
    "**Ответ**: Да, т.к. возрастает вероятность совершить ошибку первого рода.\n",
    "\n",
    "`Задание`\n",
    "Курение считают основным фактором, предрасполагающим к хроническим заболеваниям легких. Однако пассивное курение таким фактором обычно не считается. Группа исследователей усомнилась в безвредности пассивного курения и исследовали проходимость дыхательных путей у некурящих, пассивных и активных курильщиков. В качестве зависимой переменной выступал один из показателей функции внешнего дыхания — максимальная объемная скорость середины выдоха. Исследователям удалось отклонить основную нулевую гипотезу о равенстве средних при p<0,05.\n",
    "\n",
    "Для попарного сравнения всех групп между собой использовалась поправка Бонферрони.  И различиям между группами признавались статистически достоверными, если p-уровень значимости \n",
    "\n",
    "np.round(0.05/(3*2/2), 3)\n",
    "\n",
    "**Ответ**: меньше 0,017"
   ]
  },
  {
   "cell_type": "markdown",
   "metadata": {},
   "source": [
    "## [2.6 Многофакторный ANOVA](https://stepik.org/lesson/9250/step/1?unit=1830)\n",
    "\n",
    "### Двухфакторный дисперсионный анализ\n",
    "До этого в качестве независимой переменной мы использовали только один фактор. Теперь будем использовать несколько.\n",
    "Начнем с примера.\n",
    "`Пример`\n",
    "Атеросклероз довольно опасное заболевание - причина ишемической болезни сердца и инсультов. Анализ экспрессии генов лейкоцитов позволяет предсказать вероятность развития данного заболевания. В эксперименте исследовался уровень экспрессии в зависимости от <u>возраста пациентов</u> и <u>дозировки лекарства</u> аторвастатина"
   ]
  },
  {
   "cell_type": "code",
   "execution_count": 53,
   "metadata": {},
   "outputs": [],
   "source": [
    "data = pd.read_csv('./datasets/atherosclerosis.csv')"
   ]
  },
  {
   "cell_type": "code",
   "execution_count": 54,
   "metadata": {},
   "outputs": [
    {
     "data": {
      "text/html": [
       "<div>\n",
       "<style scoped>\n",
       "    .dataframe tbody tr th:only-of-type {\n",
       "        vertical-align: middle;\n",
       "    }\n",
       "\n",
       "    .dataframe tbody tr th {\n",
       "        vertical-align: top;\n",
       "    }\n",
       "\n",
       "    .dataframe thead th {\n",
       "        text-align: right;\n",
       "    }\n",
       "</style>\n",
       "<table border=\"1\" class=\"dataframe\">\n",
       "  <thead>\n",
       "    <tr style=\"text-align: right;\">\n",
       "      <th></th>\n",
       "      <th>expr</th>\n",
       "      <th>age</th>\n",
       "      <th>dose</th>\n",
       "    </tr>\n",
       "  </thead>\n",
       "  <tbody>\n",
       "    <tr>\n",
       "      <th>0</th>\n",
       "      <td>107.351478</td>\n",
       "      <td>1</td>\n",
       "      <td>D1</td>\n",
       "    </tr>\n",
       "    <tr>\n",
       "      <th>1</th>\n",
       "      <td>104.504438</td>\n",
       "      <td>1</td>\n",
       "      <td>D1</td>\n",
       "    </tr>\n",
       "    <tr>\n",
       "      <th>2</th>\n",
       "      <td>103.435134</td>\n",
       "      <td>1</td>\n",
       "      <td>D1</td>\n",
       "    </tr>\n",
       "    <tr>\n",
       "      <th>3</th>\n",
       "      <td>109.572882</td>\n",
       "      <td>1</td>\n",
       "      <td>D1</td>\n",
       "    </tr>\n",
       "    <tr>\n",
       "      <th>4</th>\n",
       "      <td>114.993803</td>\n",
       "      <td>1</td>\n",
       "      <td>D1</td>\n",
       "    </tr>\n",
       "  </tbody>\n",
       "</table>\n",
       "</div>"
      ],
      "text/plain": [
       "         expr  age dose\n",
       "0  107.351478    1   D1\n",
       "1  104.504438    1   D1\n",
       "2  103.435134    1   D1\n",
       "3  109.572882    1   D1\n",
       "4  114.993803    1   D1"
      ]
     },
     "execution_count": 54,
     "metadata": {},
     "output_type": "execute_result"
    }
   ],
   "source": [
    "data.head()"
   ]
  },
  {
   "cell_type": "code",
   "execution_count": 55,
   "metadata": {},
   "outputs": [
    {
     "name": "stdout",
     "output_type": "stream",
     "text": [
      "<class 'pandas.core.frame.DataFrame'>\n",
      "RangeIndex: 64 entries, 0 to 63\n",
      "Data columns (total 3 columns):\n",
      " #   Column  Non-Null Count  Dtype  \n",
      "---  ------  --------------  -----  \n",
      " 0   expr    64 non-null     float64\n",
      " 1   age     64 non-null     int64  \n",
      " 2   dose    64 non-null     object \n",
      "dtypes: float64(1), int64(1), object(1)\n",
      "memory usage: 1.6+ KB\n"
     ]
    }
   ],
   "source": [
    "data.info()"
   ]
  },
  {
   "cell_type": "code",
   "execution_count": 56,
   "metadata": {},
   "outputs": [
    {
     "data": {
      "text/html": [
       "<div>\n",
       "<style scoped>\n",
       "    .dataframe tbody tr th:only-of-type {\n",
       "        vertical-align: middle;\n",
       "    }\n",
       "\n",
       "    .dataframe tbody tr th {\n",
       "        vertical-align: top;\n",
       "    }\n",
       "\n",
       "    .dataframe thead th {\n",
       "        text-align: right;\n",
       "    }\n",
       "</style>\n",
       "<table border=\"1\" class=\"dataframe\">\n",
       "  <thead>\n",
       "    <tr style=\"text-align: right;\">\n",
       "      <th></th>\n",
       "      <th>Возраст</th>\n",
       "      <th>Дозировка</th>\n",
       "      <th>N</th>\n",
       "      <th>Mx</th>\n",
       "      <th>SD</th>\n",
       "    </tr>\n",
       "  </thead>\n",
       "  <tbody>\n",
       "    <tr>\n",
       "      <th>0</th>\n",
       "      <td>молодые</td>\n",
       "      <td>высокая</td>\n",
       "      <td>16.0</td>\n",
       "      <td>104.758464</td>\n",
       "      <td>5.863454</td>\n",
       "    </tr>\n",
       "    <tr>\n",
       "      <th>1</th>\n",
       "      <td>молодые</td>\n",
       "      <td>низкая</td>\n",
       "      <td>16.0</td>\n",
       "      <td>105.545864</td>\n",
       "      <td>4.369024</td>\n",
       "    </tr>\n",
       "    <tr>\n",
       "      <th>2</th>\n",
       "      <td>пожилые</td>\n",
       "      <td>высокая</td>\n",
       "      <td>16.0</td>\n",
       "      <td>101.004805</td>\n",
       "      <td>5.116310</td>\n",
       "    </tr>\n",
       "    <tr>\n",
       "      <th>3</th>\n",
       "      <td>пожилые</td>\n",
       "      <td>низкая</td>\n",
       "      <td>16.0</td>\n",
       "      <td>102.273629</td>\n",
       "      <td>5.135374</td>\n",
       "    </tr>\n",
       "  </tbody>\n",
       "</table>\n",
       "</div>"
      ],
      "text/plain": [
       "   Возраст Дозировка     N          Mx        SD\n",
       "0  молодые   высокая  16.0  104.758464  5.863454\n",
       "1  молодые    низкая  16.0  105.545864  4.369024\n",
       "2  пожилые   высокая  16.0  101.004805  5.116310\n",
       "3  пожилые    низкая  16.0  102.273629  5.135374"
      ]
     },
     "execution_count": 56,
     "metadata": {},
     "output_type": "execute_result"
    }
   ],
   "source": [
    "pivot = pd.pivot_table(data, index=['age', 'dose'], values=['expr'], aggfunc=[len, np.mean, np.std])\n",
    "pivot.columns = pivot.columns.get_level_values(0)\n",
    "pivot = pivot.rename(columns={'len': 'N', 'mean': 'Mx', 'std': 'SD'})\n",
    "pivot = pivot.reset_index()\n",
    "pivot['Возраст'] = pd.Series(['молодые' if x==1 else 'пожилые' for x in pivot['age']])\n",
    "pivot['Дозировка'] = pd.Series(['высокая' if x=='D1' else 'низкая' for x in pivot['dose']])\n",
    "pivot.drop(['age', 'dose'], axis=1, inplace=True)\n",
    "cols = pivot.columns.tolist()\n",
    "cols = cols[-2:] +  cols[:-2]\n",
    "pivot = pivot[cols]\n",
    "pivot"
   ]
  },
  {
   "cell_type": "markdown",
   "metadata": {},
   "source": [
    "Теперь изменчивость складывается из следующих факторов:\n",
    "\n",
    "$$\n",
    "SST = SSW + SSB_{A} + SSB_{B} + SSB_{A}\\odot SSB_{B}\n",
    "$$"
   ]
  },
  {
   "cell_type": "code",
   "execution_count": 57,
   "metadata": {},
   "outputs": [],
   "source": [
    "import statsmodels.api as sm\n",
    "from statsmodels.formula.api import ols"
   ]
  },
  {
   "cell_type": "code",
   "execution_count": 58,
   "metadata": {},
   "outputs": [
    {
     "data": {
      "text/html": [
       "<div>\n",
       "<style scoped>\n",
       "    .dataframe tbody tr th:only-of-type {\n",
       "        vertical-align: middle;\n",
       "    }\n",
       "\n",
       "    .dataframe tbody tr th {\n",
       "        vertical-align: top;\n",
       "    }\n",
       "\n",
       "    .dataframe thead th {\n",
       "        text-align: right;\n",
       "    }\n",
       "</style>\n",
       "<table border=\"1\" class=\"dataframe\">\n",
       "  <thead>\n",
       "    <tr style=\"text-align: right;\">\n",
       "      <th></th>\n",
       "      <th>sum_sq</th>\n",
       "      <th>df</th>\n",
       "      <th>F</th>\n",
       "      <th>PR(&gt;F)</th>\n",
       "    </tr>\n",
       "  </thead>\n",
       "  <tbody>\n",
       "    <tr>\n",
       "      <th>C(dose)</th>\n",
       "      <td>16.912241</td>\n",
       "      <td>1.0</td>\n",
       "      <td>0.638094</td>\n",
       "      <td>0.427552</td>\n",
       "    </tr>\n",
       "    <tr>\n",
       "      <th>C(age)</th>\n",
       "      <td>197.452754</td>\n",
       "      <td>1.0</td>\n",
       "      <td>7.449841</td>\n",
       "      <td>0.008313</td>\n",
       "    </tr>\n",
       "    <tr>\n",
       "      <th>C(dose):C(age)</th>\n",
       "      <td>0.927077</td>\n",
       "      <td>1.0</td>\n",
       "      <td>0.034978</td>\n",
       "      <td>0.852272</td>\n",
       "    </tr>\n",
       "    <tr>\n",
       "      <th>Residual</th>\n",
       "      <td>1590.257424</td>\n",
       "      <td>60.0</td>\n",
       "      <td>NaN</td>\n",
       "      <td>NaN</td>\n",
       "    </tr>\n",
       "  </tbody>\n",
       "</table>\n",
       "</div>"
      ],
      "text/plain": [
       "                     sum_sq    df         F    PR(>F)\n",
       "C(dose)           16.912241   1.0  0.638094  0.427552\n",
       "C(age)           197.452754   1.0  7.449841  0.008313\n",
       "C(dose):C(age)     0.927077   1.0  0.034978  0.852272\n",
       "Residual        1590.257424  60.0       NaN       NaN"
      ]
     },
     "execution_count": 58,
     "metadata": {},
     "output_type": "execute_result"
    }
   ],
   "source": [
    "model = ols('expr ~ C(dose)*C(age)', data).fit()\n",
    "\n",
    "sm.stats.anova_lm(model, typ=\"II\")"
   ]
  },
  {
   "cell_type": "code",
   "execution_count": 59,
   "metadata": {},
   "outputs": [
    {
     "data": {
      "image/png": "[encoded data removed]",
      "text/plain": [
       "<Figure size 432x288 with 1 Axes>"
      ]
     },
     "metadata": {},
     "output_type": "display_data"
    }
   ],
   "source": [
    "fig = plt.figure()\n",
    "ax = fig.add_subplot(111)\n",
    "sns.set_palette(\"bright\")\n",
    "plot = sns.pointplot(x='dose', y='expr', hue='age', data=data,\n",
    "                     dodge=True, ax=ax, legend_out = True,\n",
    "                    capsize=0.05)\n",
    "new_labels = ['Молодые', 'Пожилые']\n",
    "for t, l in zip(plot.legend_.texts, new_labels): \n",
    "    t.set_text(l)\n",
    "ax.set_xticklabels(['Высокая', 'Низкая'])\n",
    "ax.set_ylabel('Уровень экспрессии')\n",
    "ax.set_xlabel('Дозировка')\n",
    "plt.show()"
   ]
  },
  {
   "cell_type": "markdown",
   "metadata": {},
   "source": [
    "`Задание`\n",
    "Предположим, мы хотим выяснить, есть ли значимые различия в успешности прохождения онлайн-курса по введению в статистику (итоговый балл) у представителей разных факультетов (биологи, математики, психологи) с учетом курса обучения (1,3,5 курсы). В таком случае желательно чтобы:\n",
    "**Ответ**: Итоговый балл — зависимая переменная, факультет и курс — независимые переменные\n",
    "\n",
    "`Задание`\n",
    "Предположим, мы хотим выяснить, есть ли значимые различия в успешности прохождения онлайн-курса по введению в статистику (итоговый балл) у представителей разных факультетов (биологи, математики, психологи) с учетом курса обучения (1,3,5 курсы). Для проверки нулевой гипотезы о равенстве среднего итогового балла во всех группах осмысленнее всего применять:\n",
    "**Ответ**: Двуфакторный дисперсионный анализ"
   ]
  },
  {
   "cell_type": "markdown",
   "metadata": {},
   "source": [
    "### Взаимодействие факторов в ANOVA\n",
    "Рассмотрим не то, как влияют на итоговый результат отдельные переменные, а их взаимодействие. Для этого вновь рассмотрим пример\n",
    "\n",
    "`Пример`\n",
    "\n",
    "Исследователей интересовало влияние инъекции некоторого гормона на показатель концентрации кальция в плазме крови у птиц с учетом их пола. В таблице представлены данные экспериментальной и контрольной группы."
   ]
  },
  {
   "cell_type": "code",
   "execution_count": 60,
   "metadata": {},
   "outputs": [],
   "source": [
    "data = pd.read_csv('./datasets/birds.csv')"
   ]
  },
  {
   "cell_type": "code",
   "execution_count": 61,
   "metadata": {},
   "outputs": [
    {
     "data": {
      "text/html": [
       "<div>\n",
       "<style scoped>\n",
       "    .dataframe tbody tr th:only-of-type {\n",
       "        vertical-align: middle;\n",
       "    }\n",
       "\n",
       "    .dataframe tbody tr th {\n",
       "        vertical-align: top;\n",
       "    }\n",
       "\n",
       "    .dataframe thead th {\n",
       "        text-align: right;\n",
       "    }\n",
       "</style>\n",
       "<table border=\"1\" class=\"dataframe\">\n",
       "  <thead>\n",
       "    <tr style=\"text-align: right;\">\n",
       "      <th></th>\n",
       "      <th>var4</th>\n",
       "      <th>hormone</th>\n",
       "      <th>sex</th>\n",
       "    </tr>\n",
       "  </thead>\n",
       "  <tbody>\n",
       "    <tr>\n",
       "      <th>0</th>\n",
       "      <td>17.859039</td>\n",
       "      <td>1</td>\n",
       "      <td>1</td>\n",
       "    </tr>\n",
       "    <tr>\n",
       "      <th>1</th>\n",
       "      <td>20.842343</td>\n",
       "      <td>1</td>\n",
       "      <td>1</td>\n",
       "    </tr>\n",
       "    <tr>\n",
       "      <th>2</th>\n",
       "      <td>19.318099</td>\n",
       "      <td>1</td>\n",
       "      <td>1</td>\n",
       "    </tr>\n",
       "    <tr>\n",
       "      <th>3</th>\n",
       "      <td>20.064451</td>\n",
       "      <td>1</td>\n",
       "      <td>1</td>\n",
       "    </tr>\n",
       "    <tr>\n",
       "      <th>4</th>\n",
       "      <td>17.620316</td>\n",
       "      <td>1</td>\n",
       "      <td>1</td>\n",
       "    </tr>\n",
       "  </tbody>\n",
       "</table>\n",
       "</div>"
      ],
      "text/plain": [
       "        var4  hormone  sex\n",
       "0  17.859039        1    1\n",
       "1  20.842343        1    1\n",
       "2  19.318099        1    1\n",
       "3  20.064451        1    1\n",
       "4  17.620316        1    1"
      ]
     },
     "execution_count": 61,
     "metadata": {},
     "output_type": "execute_result"
    }
   ],
   "source": [
    "data.head()"
   ]
  },
  {
   "cell_type": "code",
   "execution_count": 62,
   "metadata": {},
   "outputs": [
    {
     "data": {
      "text/html": [
       "<div>\n",
       "<style scoped>\n",
       "    .dataframe tbody tr th:only-of-type {\n",
       "        vertical-align: middle;\n",
       "    }\n",
       "\n",
       "    .dataframe tbody tr th {\n",
       "        vertical-align: top;\n",
       "    }\n",
       "\n",
       "    .dataframe thead th {\n",
       "        text-align: right;\n",
       "    }\n",
       "</style>\n",
       "<table border=\"1\" class=\"dataframe\">\n",
       "  <thead>\n",
       "    <tr style=\"text-align: right;\">\n",
       "      <th></th>\n",
       "      <th>Инъекция</th>\n",
       "      <th>Пол</th>\n",
       "      <th>N</th>\n",
       "      <th>Mx</th>\n",
       "      <th>SD</th>\n",
       "    </tr>\n",
       "  </thead>\n",
       "  <tbody>\n",
       "    <tr>\n",
       "      <th>0</th>\n",
       "      <td>нет</td>\n",
       "      <td>женский</td>\n",
       "      <td>16.0</td>\n",
       "      <td>19.887291</td>\n",
       "      <td>3.677211</td>\n",
       "    </tr>\n",
       "    <tr>\n",
       "      <th>1</th>\n",
       "      <td>нет</td>\n",
       "      <td>мужской</td>\n",
       "      <td>16.0</td>\n",
       "      <td>17.608916</td>\n",
       "      <td>2.449753</td>\n",
       "    </tr>\n",
       "    <tr>\n",
       "      <th>2</th>\n",
       "      <td>да</td>\n",
       "      <td>женский</td>\n",
       "      <td>16.0</td>\n",
       "      <td>17.292254</td>\n",
       "      <td>2.864428</td>\n",
       "    </tr>\n",
       "    <tr>\n",
       "      <th>3</th>\n",
       "      <td>да</td>\n",
       "      <td>мужской</td>\n",
       "      <td>16.0</td>\n",
       "      <td>19.743662</td>\n",
       "      <td>3.383574</td>\n",
       "    </tr>\n",
       "  </tbody>\n",
       "</table>\n",
       "</div>"
      ],
      "text/plain": [
       "  Инъекция      Пол     N         Mx        SD\n",
       "0      нет  женский  16.0  19.887291  3.677211\n",
       "1      нет  мужской  16.0  17.608916  2.449753\n",
       "2       да  женский  16.0  17.292254  2.864428\n",
       "3       да  мужской  16.0  19.743662  3.383574"
      ]
     },
     "execution_count": 62,
     "metadata": {},
     "output_type": "execute_result"
    }
   ],
   "source": [
    "pivot = pd.pivot_table(data, index=['hormone', 'sex'], values=['var4'], aggfunc=[len, np.mean, np.std])\n",
    "pivot.columns = pivot.columns.get_level_values(0)\n",
    "pivot = pivot.rename(columns={'len': 'N', 'mean': 'Mx', 'std': 'SD'})\n",
    "pivot = pivot.reset_index()\n",
    "pivot['Инъекция'] = pd.Series(['да' if x==1 else 'нет' for x in pivot['hormone']])\n",
    "pivot['Пол'] = pd.Series(['мужской' if x==1 else 'женский' for x in pivot['sex']])\n",
    "pivot.drop(['hormone', 'sex'], axis=1, inplace=True)\n",
    "cols = pivot.columns.tolist()\n",
    "cols = cols[-2:] +  cols[:-2]\n",
    "pivot = pivot[cols]\n",
    "pivot"
   ]
  },
  {
   "cell_type": "markdown",
   "metadata": {},
   "source": [
    "Применим дисперсионный анализ"
   ]
  },
  {
   "cell_type": "code",
   "execution_count": 63,
   "metadata": {},
   "outputs": [
    {
     "data": {
      "text/html": [
       "<div>\n",
       "<style scoped>\n",
       "    .dataframe tbody tr th:only-of-type {\n",
       "        vertical-align: middle;\n",
       "    }\n",
       "\n",
       "    .dataframe tbody tr th {\n",
       "        vertical-align: top;\n",
       "    }\n",
       "\n",
       "    .dataframe thead th {\n",
       "        text-align: right;\n",
       "    }\n",
       "</style>\n",
       "<table border=\"1\" class=\"dataframe\">\n",
       "  <thead>\n",
       "    <tr style=\"text-align: right;\">\n",
       "      <th></th>\n",
       "      <th>sum_sq</th>\n",
       "      <th>df</th>\n",
       "      <th>F</th>\n",
       "      <th>PR(&gt;F)</th>\n",
       "    </tr>\n",
       "  </thead>\n",
       "  <tbody>\n",
       "    <tr>\n",
       "      <th>C(hormone)</th>\n",
       "      <td>0.847472</td>\n",
       "      <td>1.0</td>\n",
       "      <td>0.086528</td>\n",
       "      <td>0.769653</td>\n",
       "    </tr>\n",
       "    <tr>\n",
       "      <th>C(sex)</th>\n",
       "      <td>0.119762</td>\n",
       "      <td>1.0</td>\n",
       "      <td>0.012228</td>\n",
       "      <td>0.912318</td>\n",
       "    </tr>\n",
       "    <tr>\n",
       "      <th>C(hormone):C(sex)</th>\n",
       "      <td>89.483384</td>\n",
       "      <td>1.0</td>\n",
       "      <td>9.136390</td>\n",
       "      <td>0.003682</td>\n",
       "    </tr>\n",
       "    <tr>\n",
       "      <th>Residual</th>\n",
       "      <td>587.650394</td>\n",
       "      <td>60.0</td>\n",
       "      <td>NaN</td>\n",
       "      <td>NaN</td>\n",
       "    </tr>\n",
       "  </tbody>\n",
       "</table>\n",
       "</div>"
      ],
      "text/plain": [
       "                       sum_sq    df         F    PR(>F)\n",
       "C(hormone)           0.847472   1.0  0.086528  0.769653\n",
       "C(sex)               0.119762   1.0  0.012228  0.912318\n",
       "C(hormone):C(sex)   89.483384   1.0  9.136390  0.003682\n",
       "Residual           587.650394  60.0       NaN       NaN"
      ]
     },
     "execution_count": 63,
     "metadata": {},
     "output_type": "execute_result"
    }
   ],
   "source": [
    "model = ols('var4 ~ C(hormone)*C(sex)', data).fit()\n",
    "sm.stats.anova_lm(model, typ=\"II\")"
   ]
  },
  {
   "cell_type": "markdown",
   "metadata": {},
   "source": [
    "В результат получили, что факторы по отдельности не внесли сильный вклад в изменчивость, однако, вместе вносят довольно существенный вклад"
   ]
  },
  {
   "cell_type": "code",
   "execution_count": 64,
   "metadata": {},
   "outputs": [
    {
     "data": {
      "image/png": "[encoded data removed]",
      "text/plain": [
       "<Figure size 432x288 with 1 Axes>"
      ]
     },
     "metadata": {},
     "output_type": "display_data"
    }
   ],
   "source": [
    "fig = plt.figure()\n",
    "ax = fig.add_subplot(111)\n",
    "sns.set_palette(\"bright\")\n",
    "plot = sns.pointplot(x='hormone', y='var4', hue='sex', data=data,\n",
    "                     dodge=True, ax=ax, legend_out = True,\n",
    "                    capsize=0.05)\n",
    "new_labels = ['Мужской', 'Женский']\n",
    "for t, l in zip(plot.legend_.texts, new_labels): \n",
    "    t.set_text(l)\n",
    "ax.set_xticklabels(['Да', 'Нет'])\n",
    "ax.set_ylabel('Концентрация кальция')\n",
    "ax.set_xlabel('Инъекция')\n",
    "plt.show()"
   ]
  },
  {
   "cell_type": "markdown",
   "metadata": {},
   "source": [
    "График дает нам наглядную интерпретацию полученных данных, получается, что в зависимости от пола, инъекция оказала разное влияние на концентрацию кальция"
   ]
  },
  {
   "cell_type": "markdown",
   "metadata": {},
   "source": [
    "`Задание`\n",
    "\n",
    "![alt text](.\\\\images\\\\36.png \"Title\")\n",
    "\n",
    "Компания, разрабатывающая мобильные телефоны, перед выпуском двух новых моделей (№1 и №2), решила выяснить, как потенциальные пользователи воспринимают эти новинки . Для этого компания набрала фокус-группу (100 мужчин, 100 женщин) и попросила участников оценить дизайн новых моделей телефонов от 1 до 100. Чтобы проанализировать полученные результаты, был применен двуфакторный дисперсионный анализ (зависимая переменная - оценка испытуемых по 100-балльной шкале, независимые переменные (факторы) - номер модели и пол испытуемых). \n",
    "Соотнесите графики результатов (  A, B, C, D) и различные результаты исследования. \n",
    "\n",
    "**Ответ**:\n",
    "\n",
    "| График | Ответ |\n",
    "| --- | --- |\n",
    "| A |  значимый эффект только для фактора модели телефона |\n",
    "| B |  значимый эффект только для фактора пола участников исследования |\n",
    "| С |  значимый эффект для обоих факторов |\n",
    "| D |  значимое взаимодействие факторов |\n",
    "\n",
    "`Задание`\n",
    "\n",
    "Взаимодействие факторов в дисперсионном анализе означает, что\n",
    "\n",
    "**Ответ**: Влияние одного фактора по-разному проявляется на зависимую переменную в зависимости от градаций другого фактора\n",
    "\n",
    "`Задание`\n",
    "\n",
    "Причиной отклонения нулевой гипотезы в многофакторном дисперсионном анализе (о равенстве средних во всех группах) может стать:\n",
    "**Ответ**:\n",
    "Значимый эффект для всех факторов\n",
    "\n",
    "Значимое взаимодействие факторов\n",
    "\n",
    "Значимый эффект одного из фактора\n",
    "\n",
    "<u>Каждый из предложенных вариантов</u>\n",
    "\n",
    "`Задание`\n",
    "\n",
    "Могут ли очень заметные выбросы негативно повлиять на результаты дисперсионного анализа?\n",
    "\n",
    "**Ответ**: Да, так как могут нежелательно повлиять на значения средних межгрупповых и внутригрупповых квадратов (особенно в случае небольшого количества наблюдений).\n",
    "\n",
    "`Задание`\n",
    "\n",
    "Укажите верные высказывания относительно дисперсионного анализа:\n",
    "\n",
    "**Ответ**:\n",
    "\n",
    "При увеличении числа групп число степеней свободы для межгруппового среднего квадрата также увеличивается\n",
    "\n",
    "Поправка Бонферрони применяется для коррекции p-уровня значимости при множественных сравнениях.\n",
    "\n",
    "### Требования к данным\n",
    "\n",
    "Дисперсионный анализ выдвигает два требования для данных:\n",
    "\n",
    "1. Нормальность данных\n",
    "1. Гомогенность дисперсий\n",
    "\n",
    "Проверки на соответствие первому требованию были обсуждены ранее\n",
    "\n",
    "Для второго требования можно применить тест Левина:"
   ]
  },
  {
   "cell_type": "code",
   "execution_count": 65,
   "metadata": {},
   "outputs": [],
   "source": [
    "data = pd.read_csv('./datasets/genetherapy.csv')"
   ]
  },
  {
   "cell_type": "code",
   "execution_count": 66,
   "metadata": {},
   "outputs": [],
   "source": [
    "groups = []\n",
    "for i in data.Therapy.unique():\n",
    "    groups.append(np.asarray(data[data.Therapy==i].expr))"
   ]
  },
  {
   "cell_type": "code",
   "execution_count": 67,
   "metadata": {},
   "outputs": [
    {
     "data": {
      "text/plain": [
       "LeveneResult(statistic=0.6477908627745761, pvalue=0.5876330665111003)"
      ]
     },
     "execution_count": 67,
     "metadata": {},
     "output_type": "execute_result"
    }
   ],
   "source": [
    "stats.levene(*groups)"
   ]
  },
  {
   "cell_type": "markdown",
   "metadata": {},
   "source": [
    "`Задание`\n",
    "\n",
    "Укажите, какие ограничения желательно проверять при использовании дисперсионного анализа:\n",
    "\n",
    "**Ответ**: Нормальное распределение зависимой переменной в группах, гомогенность (однородность) дисперсий"
   ]
  },
  {
   "cell_type": "markdown",
   "metadata": {},
   "source": [
    "### Интерпрертация результатов\n",
    "\n",
    "Дисперсионный анализ ничего не говорит о причинно-следственных связях, поэтому важно помнить, что может иметь место обратное влияние"
   ]
  }
 ],
 "metadata": {
  "kernelspec": {
   "display_name": "Python-3-8",
   "language": "python",
   "name": "python-3-8"
  },
  "language_info": {
   "codemirror_mode": {
    "name": "ipython",
    "version": 3
   },
   "file_extension": ".py",
   "mimetype": "text/x-python",
   "name": "python",
   "nbconvert_exporter": "python",
   "pygments_lexer": "ipython3",
   "version": "3.8.5"
  }
 },
 "nbformat": 4,
 "nbformat_minor": 2
}
