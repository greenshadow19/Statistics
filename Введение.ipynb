{
 "cells": [
  {
   "cell_type": "code",
   "execution_count": 1,
   "metadata": {},
   "outputs": [],
   "source": [
    "import numpy as np\n",
    "import seaborn as sns\n",
    "import matplotlib.pyplot as plt\n",
    "import pandas as pd\n",
    "from scipy import stats"
   ]
  },
  {
   "cell_type": "code",
   "execution_count": 2,
   "metadata": {},
   "outputs": [],
   "source": [
    "%config Completer.use_jedi = False"
   ]
  },
  {
   "cell_type": "markdown",
   "metadata": {},
   "source": [
    "# Введение\n",
    "\n",
    "## 1.1 [Общая информация о курсе](https://stepik.org/lesson/8095/step/1?unit=1371)\n",
    "\n",
    "## 1.2 [Генеральная совокупность и выборка](https://stepik.org/lesson/8074/step/1?unit=1354)\n",
    "\n",
    "###  Понятие генеральной совокупности и выборки, репрезентативность выборки\n",
    "Генеральная совокупность --- все возможные значения случайной величины\n",
    "\n",
    "Выборки --- некоторая реализация генеральной совокупности\n",
    "\n",
    "Репрезентативность выборки --- обобщающая способность выборки описать генеральную совокупность\n",
    "\n",
    "`Задание`\n",
    "*Если мы провели исследование с целью выявить уровень знаний в области биологии на 100 студентах биологического факультета СПбГУ, то на какую совокупность мы можем распространить наши выводы?*\n",
    "**Ответ**: Студенты биологического факультета СПБГУ.\n",
    "\n",
    "`Задание`\n",
    "*Если объем выборки достаточно велик (больше 100), то такая выборка является репрезентативной*\n",
    "**Ответ**: Зависит от способа формирования выборки\n",
    "\n",
    "\n",
    "\n",
    "\n",
    "**Следующие заголовки демонстрируют разные возможности составить выборку из генральной совокупности**\n",
    "\n",
    "###  Простая случайная выборка\n",
    "Обычным случайным образом извлекаем данные из нашей совокупности\n",
    "\n",
    "###  Стратифицированная выборка\n",
    "\n",
    "Извлекаем данные таким образом, чтобы там оказалось одинаковое количество представителей разных страт. Например, генеральная совокупность --- студенты МГУ, страты --- мужчины и женщины, составив выборку, в которой будет одинаковое количество мужчин и женщин получим стратифицированную выборку.\n",
    "\n",
    "###  Групповая выборка\n",
    "\n",
    "Считаем, что генеральная совокупность некоторым образом разделена на группы, в которых генеральная совокупность ведет себя одинаковым образом. Например, город Москва разделен на районы, тогда сначала выбираем некоторые группы, а потом уже в них используем простые случайные выборки.\n",
    "\n",
    "`Задание` Соотнесите способы формирования выборки с предложенными примерами.\n",
    "А. Для того чтобы протестировать курс по введению в статистику и выяснить, насколько хорошо с ним справятся студенты Института биоинформатики, случайным образом было выбрано 50 студентов института.**Ответ**:Простая случайная выборка (random sample)\n",
    "\n",
    "Б. Для исследования взаимосвязи риска развития заболевания и группы крови человека потенциальных участников исследования разделили на четыре группы (в соответствии с группой крови). Затем из каждой группы случайным образом извлекли по 50 человек.**Ответ**:Стратифицированная выборка (stratified sample)\n",
    "\n",
    "В. Чтобы проверить знания школьников Санкт-Петерубрга по математике, было организовано исследование. Случайным образом было выбрано 10 школ, затем из каждой школы случайным образом было отобрано по 50 учащихся разных классов.**Ответ**:Групповая выборка (cluster sample)\n",
    "\n",
    "`Задание`Предположим, после лекции по статистике, один студент решил выяснить, как хорошо студенты психологического факультета разбираются в этом предмете. Он подготовил серию заданий и пригласил 30 своих друзей с факультета принять участие в тестировании. Исследователь утверждает, что он сформировал простую случайную выборку. Так ли это\n",
    "**Ответ**: Это не простая случайная выборка. Не каждый член генеральной совокупности мог равновероятно принять участие в тестировании, т.к. исследователь позвал только своих друзей\n",
    "\n",
    "## [1.3 Типы переменных. Количественные и номинативные переменные](https://stepik.org/lesson/8073/step/1?unit=1353)\n",
    "\n",
    "### Типы переменных\n",
    "### Количественные переменные\n",
    "Количественная переменная --- переменная, множество значений которых совпадает с подмножеством действительных чисел.\n",
    "### Номинативные переменные\n",
    "По-другому категориальная переменная, множество значений, которых дискретно и сравнение которых между собой бесполезно. (Например, цвет глаз)\n",
    "### Ранговые переменные\n",
    "Почти тоже самое, что номинативные, только на них определен порядок, например, количество комнат в доме. \n",
    "\n",
    "`Задание` Какие из перечисленных переменных, вероятнее всего, являются дискретными?\n",
    "\n",
    "| Переменная | Ответ \n",
    "| :--- | :---: \n",
    "| Пол человека | Нет \n",
    "| Имена ваших друзей | Нет \n",
    "| Расстояние от Санкт-Петербурга до других городов России | Нет \n",
    "| Число слушателей онлайн курса по статистике, набравших максимальный балл | Да \n",
    "| Количество домашних животных в семье | Да \n",
    "| Средний годовой доход | Нет \n",
    "\n",
    "\n",
    "`Задание` Два основных типа переменных в статистике:\n",
    "**Ответ**: Качественные и количественные\n",
    "\n",
    "`Задание` Соотнесите примеры переменных и их типы:\n",
    "\n",
    "| Тип | Пример |\n",
    "| --- | --- |\n",
    "| Количественная (дискретная) переменная | Количество публикаций у ученого |\n",
    "| Количественная (непрерывная) переменная |  Рост в мм |\n",
    "| Ранговая переменная | Успевавемость студентов (упорядоченный список студентов по успеваемости)\n",
    "| Номинативная переменная | Группа крови |\n",
    "\n",
    "`Задание` Если рост 10 участников исследования представлен в ранговой шкале (по убыванию: 1-самый высокий, 2 - ниже и т.д.), тогда верным утверждением будет:\n",
    "**Ответ**: Испытуемый с рангом 4 выше, чем испытуемый с рангом 6, но ниже, чем испытуемый с рангом 2."
   ]
  },
  {
   "cell_type": "markdown",
   "metadata": {},
   "source": [
    "## [1.4 Меры центральной тенденции](https://stepik.org/lesson/8075/step/1?unit=1355)\n",
    "\n",
    "### Понятие описательной статистики"
   ]
  },
  {
   "cell_type": "markdown",
   "metadata": {},
   "source": [
    "### Мода\n",
    "Мода --- наиболее часто встречающееся значение в выборке"
   ]
  },
  {
   "cell_type": "code",
   "execution_count": 3,
   "metadata": {},
   "outputs": [],
   "source": [
    "sample = np.random.poisson(size=10000)"
   ]
  },
  {
   "cell_type": "code",
   "execution_count": 4,
   "metadata": {},
   "outputs": [
    {
     "data": {
      "text/plain": [
       "ModeResult(mode=array([0]), count=array([3688]))"
      ]
     },
     "execution_count": 4,
     "metadata": {},
     "output_type": "execute_result"
    }
   ],
   "source": [
    "stats.mode(sample)"
   ]
  },
  {
   "cell_type": "markdown",
   "metadata": {},
   "source": [
    "### Медиана\n",
    "\n",
    "Значение --- меньше которого ровно половина значений выборки. Определяется либо как середина вариационного ряда (объем выборки нечетен), либо как среднее значение двух средних элементов вариационного ряда (объем выборки четен)"
   ]
  },
  {
   "cell_type": "code",
   "execution_count": 5,
   "metadata": {},
   "outputs": [
    {
     "data": {
      "text/plain": [
       "0.0424385105114049"
      ]
     },
     "execution_count": 5,
     "metadata": {},
     "output_type": "execute_result"
    }
   ],
   "source": [
    "sample = np.random.normal(size=1000)\n",
    "np.median(sample)"
   ]
  },
  {
   "cell_type": "markdown",
   "metadata": {},
   "source": [
    "### Среднее значение\n",
    "Сумма всех значений в выборке делить на количество элементов в выборке"
   ]
  },
  {
   "cell_type": "code",
   "execution_count": 6,
   "metadata": {},
   "outputs": [
    {
     "data": {
      "text/plain": [
       "-0.020578316662755804"
      ]
     },
     "execution_count": 6,
     "metadata": {},
     "output_type": "execute_result"
    }
   ],
   "source": [
    "sample = np.random.normal(size=1000)\n",
    "np.mean(sample)"
   ]
  },
  {
   "cell_type": "markdown",
   "metadata": {},
   "source": [
    "`Задание`\n",
    "![alt text](.\\\\images\\\\29.png \"Title\")\n",
    "**Ответ** Красные линии - две моды\n",
    "\n",
    "`Задание` \n",
    "Представьте, что в нашу выборку из 30 наблюдений добавилось 31-ое значение, равное 3000. Как вы считаете, какая из мер центральной тенденции изменится самым значительным образом и станет равна приблизительно 262?\n",
    "![alt text](.\\\\images\\\\30.png \"Title\")\n",
    "**Ответ** Среднее значение\n",
    "\n",
    "`Задание`\n",
    "На графике представлена гистограмма частот некоторого количественного признака. Соотнесите вертикальные линии на гистограмме с мерами центральной тенденции. \n",
    "![alt text](.\\\\images\\\\31.png \"Title\")\n",
    "\n",
    "| Линия | Статистика |\n",
    "| --- | --- |\n",
    "| Красная линия | Мода | \n",
    "| Синяя линия | Среднее значение | \n",
    "| Зеленая линия | Медиана |"
   ]
  },
  {
   "cell_type": "markdown",
   "metadata": {},
   "source": [
    "_Пояснение_: мода --- самый высокий столбик. Медиана не может быть дробной, а также менее чувствительна к выбросам, следовательно - зеленая. Синяя --- среднее.\n",
    "\n",
    "### Выбор меры центральной тенденции\n",
    "`Задание`\n",
    "В каких случаях вместо среднего значения лучше использовать моду или медиану в качестве центральной тенденции?\n",
    "\n",
    "Если присутствуют заметные выбросы\n",
    "\n",
    "\n",
    "Если распределение асимметрично\n"
   ]
  },
  {
   "cell_type": "markdown",
   "metadata": {},
   "source": [
    "### Свойства среднего\n",
    "\n",
    "$$ M_{x+C} = M_x + C$$\n",
    "\n",
    "\n",
    "$$ M_{x*C} = M_x*C $$\n",
    "\n",
    "\n",
    "$$ \\sum_i X_i - M_x = 0 $$\n"
   ]
  },
  {
   "cell_type": "markdown",
   "metadata": {},
   "source": [
    "`Задание`\n",
    "![alt text](.\\\\images\\\\32.png \"Title\")\n",
    "\n",
    "Предположим, вы провели исследование с целью выяснить, какой доход у граждан, проживающих в двух разных городах (по 100 человек из каждого города). Распределение заработной платы изображено на графике. Какую из мер центральной тенденции осмысленнее всего использовать для описания полученных данных? \n",
    "**Ответ**: Моды"
   ]
  },
  {
   "cell_type": "markdown",
   "metadata": {},
   "source": [
    "## [1.5 Меры изменчивости](https://stepik.org/lesson/8076/step/1?unit=1356)\n",
    "\n",
    "### Понятие меры изменчивости данных\n",
    "### Размах\n",
    "Разница между максимальным и минимальным значением в выборке"
   ]
  },
  {
   "cell_type": "code",
   "execution_count": 7,
   "metadata": {},
   "outputs": [
    {
     "data": {
      "text/plain": [
       "6.508115644657083"
      ]
     },
     "execution_count": 7,
     "metadata": {},
     "output_type": "execute_result"
    }
   ],
   "source": [
    "sample = np.random.normal(size=1000)\n",
    "\n",
    "np.ptp(sample)"
   ]
  },
  {
   "cell_type": "markdown",
   "metadata": {},
   "source": [
    "`Задание`\n",
    "![alt text](.\\\\images\\\\33_1.png \"Title\")\n",
    "![alt text](.\\\\images\\\\33.png \"Title\")\n",
    "\n",
    "Проанализируйте две гистограммы и выберите верное высказывание\n",
    "\n",
    "**Ответ**: В первом случае размах меньше, чем во втором"
   ]
  },
  {
   "cell_type": "markdown",
   "metadata": {},
   "source": [
    "### Дисперсия, стандартное отклонение\n",
    "$$ D_x = \\frac{1}{N}\\sum_{i=1}^N (X_i - \\mu)^2$$\n",
    "$\\mu$ - среднее значение\n",
    "$$ \\sigma_x = \\sqrt{D_x}$$"
   ]
  },
  {
   "cell_type": "code",
   "execution_count": 8,
   "metadata": {},
   "outputs": [
    {
     "data": {
      "text/plain": [
       "(24.577156461678275, 4.957535321273896)"
      ]
     },
     "execution_count": 8,
     "metadata": {},
     "output_type": "execute_result"
    }
   ],
   "source": [
    "sample = np.random.normal(0, 5, size=10000)\n",
    "np.std(sample)**2, np.std(sample)"
   ]
  },
  {
   "cell_type": "markdown",
   "metadata": {},
   "source": [
    "`Задание`\n",
    "![alt text](.\\\\images\\\\34.png \"Title\")\n",
    "\n",
    "У какого из распределений наибольшая дисперсия?\n",
    "**Ответ**: 2\n",
    "\n",
    "`Задание`\n",
    "Укажите, в какой из выборок наибольшее стандартное отклонение:\n",
    "\n",
    "(1)  1 3 2 4 5 7 1 8 \n",
    "\n",
    "(2) 100 300 250 400 230 280 320 112\n",
    "\n",
    "(3) 15 10 13 7 28 31 20 32\n",
    "\n",
    "P.S. задание можно решить без расчетов.\n",
    "**Ответ**: 2"
   ]
  },
  {
   "cell_type": "markdown",
   "metadata": {},
   "source": [
    "### Свойства дисперсии и стандартного отклонения\n",
    "\n",
    "$$ D_{x+C} = D_x $$\n",
    "\n",
    "\n",
    "$$ sd_{x+C} = sd_x $$\n",
    "\n",
    "\n",
    "$$ D_{x\\cdot C} = D_x\\cdot C^2 $$\n",
    "\n",
    "\n",
    "$$ sd_{x\\cdot C} = sd_x\\cdot C $$"
   ]
  },
  {
   "cell_type": "markdown",
   "metadata": {},
   "source": [
    "## [1.6 Квартили распределения и график box-plot](https://stepik.org/lesson/9294/step/1?unit=1827)\n",
    "\n",
    "### Квантили распределения\n",
    "Квантиль p значение, ниже которого доля p выборки"
   ]
  },
  {
   "cell_type": "code",
   "execution_count": 9,
   "metadata": {},
   "outputs": [],
   "source": [
    "sample = np.random.normal(size=10000)"
   ]
  },
  {
   "cell_type": "code",
   "execution_count": 10,
   "metadata": {},
   "outputs": [
    {
     "data": {
      "text/plain": [
       "1.2178869705868882"
      ]
     },
     "execution_count": 10,
     "metadata": {},
     "output_type": "execute_result"
    }
   ],
   "source": [
    "np.percentile(sample, 89)"
   ]
  },
  {
   "cell_type": "markdown",
   "metadata": {},
   "source": [
    "### Квартили\n",
    "Квантили в 0.25 и 0.75"
   ]
  },
  {
   "cell_type": "markdown",
   "metadata": {},
   "source": [
    "### Box plot\n",
    "\n",
    "Изобразим графически выборку, черта посередине - медиана, которая находится в ящике, образованным 1 и 3 квартилем. От 1 квартиля отложим вниз 1.5 IQR (значение 3 квартиля - значение 1 квартиля). От 3 квартиля отложим вверх значение 1.5 IQR, все что не попало обозначим точками"
   ]
  },
  {
   "cell_type": "code",
   "execution_count": 31,
   "metadata": {},
   "outputs": [],
   "source": [
    "sample = np.random.normal(size=1000)"
   ]
  },
  {
   "cell_type": "code",
   "execution_count": 32,
   "metadata": {},
   "outputs": [],
   "source": [
    "up = np.percentile(sample, 75) + 1.5*stats.iqr(sample)\n",
    "box_up = np.percentile(sample, 75)\n",
    "median = np.median(sample)\n",
    "box_down = np.percentile(sample, 25)\n",
    "down = np.percentile(sample, 25) - 1.5*stats.iqr(sample)"
   ]
  },
  {
   "cell_type": "code",
   "execution_count": 33,
   "metadata": {},
   "outputs": [
    {
     "data": {
      "text/plain": [
       "<matplotlib.lines.Line2D at 0x1e143a8a9a0>"
      ]
     },
     "execution_count": 33,
     "metadata": {},
     "output_type": "execute_result"
    },
    {
     "data": {
      "image/png": "[encoded data removed]",
      "text/plain": [
       "<Figure size 288x432 with 1 Axes>"
      ]
     },
     "metadata": {},
     "output_type": "display_data"
    }
   ],
   "source": [
    "fig = plt.figure(figsize=(4, 6))\n",
    "ax = fig.add_subplot()\n",
    "sns.set_style(style=\"whitegrid\")\n",
    "\n",
    "sns.boxplot(data=sample, orient='v')\n",
    "plt.axhline(up, color='#00FF00')\n",
    "plt.axhline(box_up, color='#00FF00')\n",
    "plt.axhline(median, color='#00FF00')\n",
    "plt.axhline(box_down, color='#00FF00')\n",
    "plt.axhline(down, color='#00FF00')"
   ]
  },
  {
   "cell_type": "markdown",
   "metadata": {},
   "source": [
    "## [1.7 Нормальное распределение](https://stepik.org/lesson/9166/step/1?unit=1828)\n",
    "\n",
    "### Понятие нормального распределения\n",
    "Нормальное распределение  — распределение вероятностей, которое в одномерном случае задаётся функцией плотности вероятности, совпадающей с функцией Гаусса:\n",
    "\n",
    "$$\n",
    "\\rho(x) = \\frac{1}{\\sqrt{2\\pi}\\sigma} e^{-\\frac{(x-\\mu)^2}{2\\sigma^2}}\n",
    "$$\n",
    "### Стандартизация\n",
    "\n",
    "Преобразование выборки:\n",
    "$$\n",
    "z_i = \\frac{X_i - \\mu}{\\sigma}\n",
    "$$"
   ]
  },
  {
   "cell_type": "markdown",
   "metadata": {},
   "source": [
    "### Правила двух и трех сигм, использование стандартизации"
   ]
  },
  {
   "cell_type": "markdown",
   "metadata": {},
   "source": [
    "Внутри интервала двух сигм лежит следующая часть выборки"
   ]
  },
  {
   "cell_type": "code",
   "execution_count": 14,
   "metadata": {},
   "outputs": [
    {
     "data": {
      "text/plain": [
       "0.95"
      ]
     },
     "execution_count": 14,
     "metadata": {},
     "output_type": "execute_result"
    }
   ],
   "source": [
    "np.round(stats.norm.cdf(2) - stats.norm.cdf(-2), 2)"
   ]
  },
  {
   "cell_type": "markdown",
   "metadata": {},
   "source": [
    "Внутри интервала трех сигм лежит"
   ]
  },
  {
   "cell_type": "code",
   "execution_count": 15,
   "metadata": {},
   "outputs": [
    {
     "data": {
      "text/plain": [
       "0.9973"
      ]
     },
     "execution_count": 15,
     "metadata": {},
     "output_type": "execute_result"
    }
   ],
   "source": [
    "np.round(stats.norm.cdf(3) - stats.norm.cdf(-3), 5)"
   ]
  },
  {
   "cell_type": "markdown",
   "metadata": {},
   "source": [
    "## [1.8 Центральная предельная теорема](https://stepik.org/lesson/8077/step/1?unit=1357)\n",
    "\n",
    "Средние значения выборок имеют нормальное распределение со следующими параметрами\n",
    "$$ N\\left(\\mu, \\frac{\\sigma}{\\sqrt{n}}\\right) $$"
   ]
  },
  {
   "cell_type": "markdown",
   "metadata": {},
   "source": [
    "## [1.9 Доверительные интервалы для среднего](https://stepik.org/lesson/8079/step/1?unit=1359)\n",
    "\n",
    "Пусть имеется достаточно большая выборка (> 30), которая распределена нормально. Требуется построить интервал для этой выборки, в которой математическое ожидание попадает с заданной вероятностью"
   ]
  },
  {
   "cell_type": "code",
   "execution_count": 16,
   "metadata": {},
   "outputs": [],
   "source": [
    "p = 0.95 # уровень доверия"
   ]
  },
  {
   "cell_type": "markdown",
   "metadata": {},
   "source": [
    "Задавшись таким интервалом, определим отклонение на оси x, в которое будет попадать заданная часть выборки"
   ]
  },
  {
   "cell_type": "code",
   "execution_count": 17,
   "metadata": {},
   "outputs": [
    {
     "data": {
      "text/plain": [
       "1.959963984540054"
      ]
     },
     "execution_count": 17,
     "metadata": {},
     "output_type": "execute_result"
    }
   ],
   "source": [
    "stats.norm.ppf((1+p)/2)"
   ]
  },
  {
   "cell_type": "markdown",
   "metadata": {},
   "source": [
    "Тогда доверительный интервал:\n",
    "\n",
    "$$\n",
    "\\mu \\pm se = \\mu \\pm \\frac{sd}{\\sqrt{n}}\n",
    "$$"
   ]
  },
  {
   "cell_type": "markdown",
   "metadata": {},
   "source": [
    "## [1.10 Идея статистического вывода, p-уровень значимости](https://stepik.org/lesson/8078/step/15?unit=1358)\n",
    "\n",
    "### Статистическая проверка гипотез\n",
    "### Идея статистического вывода\n",
    "### p-уровень значимости и его интерпретация\n"
   ]
  },
  {
   "cell_type": "markdown",
   "metadata": {},
   "source": [
    "Поставим гипотезу о равенстве среднего какой-то конкретной величине"
   ]
  },
  {
   "cell_type": "code",
   "execution_count": 18,
   "metadata": {},
   "outputs": [],
   "source": [
    "sample = np.random.normal(21, 5, size=1000)"
   ]
  },
  {
   "cell_type": "markdown",
   "metadata": {},
   "source": [
    "**$H_0=20$**\n",
    "\n",
    "**$H_1\\ne20$**"
   ]
  },
  {
   "cell_type": "markdown",
   "metadata": {},
   "source": [
    "Расчитаем значение получить такое или большее различие при принятии нулевой гипотезы"
   ]
  },
  {
   "cell_type": "markdown",
   "metadata": {},
   "source": [
    "Для этого рассчитаем z-критерий:\n",
    "\n",
    "$$\n",
    " z = \\frac{\\mu - M}{se} = \\frac{\\mu - M}{ \\frac{sd}{\\sqrt{n}} }\n",
    "$$"
   ]
  },
  {
   "cell_type": "code",
   "execution_count": 19,
   "metadata": {},
   "outputs": [],
   "source": [
    "z = (sample.mean() - 20)/(np.std(sample)/np.sqrt(1000))"
   ]
  },
  {
   "cell_type": "markdown",
   "metadata": {},
   "source": [
    "Тогда вероятность получить большие или такие же различия (p-value)"
   ]
  },
  {
   "cell_type": "code",
   "execution_count": 20,
   "metadata": {},
   "outputs": [
    {
     "data": {
      "text/plain": [
       "4.6135314801838796e-10"
      ]
     },
     "execution_count": 20,
     "metadata": {},
     "output_type": "execute_result"
    }
   ],
   "source": [
    "stats.norm.cdf(-z) + (1 - stats.norm.cdf(z))"
   ]
  },
  {
   "cell_type": "markdown",
   "metadata": {},
   "source": [
    "То есть при уровне значимости в 0.05 нам стоит отвергнуть нулевую гипотезу"
   ]
  }
 ],
 "metadata": {
  "kernelspec": {
   "display_name": "Python-3-8",
   "language": "python",
   "name": "python-3-8"
  },
  "language_info": {
   "codemirror_mode": {
    "name": "ipython",
    "version": 3
   },
   "file_extension": ".py",
   "mimetype": "text/x-python",
   "name": "python",
   "nbconvert_exporter": "python",
   "pygments_lexer": "ipython3",
   "version": "3.8.5"
  }
 },
 "nbformat": 4,
 "nbformat_minor": 2
}
